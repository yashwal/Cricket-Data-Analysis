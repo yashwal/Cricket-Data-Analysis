{
 "cells": [
  {
   "cell_type": "code",
   "execution_count": 2,
   "metadata": {},
   "outputs": [],
   "source": [
    "import matplotlib.pyplot as plt\n",
    "import numpy as np\n",
    "import pandas as pd\n",
    "import seaborn as sns\n",
    "import scipy"
   ]
  },
  {
   "cell_type": "code",
   "execution_count": 3,
   "metadata": {},
   "outputs": [
    {
     "data": {
      "text/html": [
       "<div>\n",
       "<style scoped>\n",
       "    .dataframe tbody tr th:only-of-type {\n",
       "        vertical-align: middle;\n",
       "    }\n",
       "\n",
       "    .dataframe tbody tr th {\n",
       "        vertical-align: top;\n",
       "    }\n",
       "\n",
       "    .dataframe thead th {\n",
       "        text-align: right;\n",
       "    }\n",
       "</style>\n",
       "<table border=\"1\" class=\"dataframe\">\n",
       "  <thead>\n",
       "    <tr style=\"text-align: right;\">\n",
       "      <th></th>\n",
       "      <th>Unnamed: 0</th>\n",
       "      <th>100s</th>\n",
       "      <th>4 Wickets in Inn</th>\n",
       "      <th>4s</th>\n",
       "      <th>50s</th>\n",
       "      <th>6s</th>\n",
       "      <th>Age</th>\n",
       "      <th>Balls</th>\n",
       "      <th>Balls_Faced</th>\n",
       "      <th>Balls_Average</th>\n",
       "      <th>...</th>\n",
       "      <th>Maidens</th>\n",
       "      <th>Matches</th>\n",
       "      <th>Name</th>\n",
       "      <th>Not_Outs</th>\n",
       "      <th>Opening_Batting</th>\n",
       "      <th>Overs</th>\n",
       "      <th>Runs</th>\n",
       "      <th>Runs_Conceded</th>\n",
       "      <th>Strike_Rate</th>\n",
       "      <th>Wickets</th>\n",
       "    </tr>\n",
       "  </thead>\n",
       "  <tbody>\n",
       "    <tr>\n",
       "      <th>0</th>\n",
       "      <td>0</td>\n",
       "      <td>0</td>\n",
       "      <td>0.0</td>\n",
       "      <td>0</td>\n",
       "      <td>0</td>\n",
       "      <td>0</td>\n",
       "      <td>64.0</td>\n",
       "      <td>88.0</td>\n",
       "      <td>NaN</td>\n",
       "      <td>38.00</td>\n",
       "      <td>...</td>\n",
       "      <td>2.0</td>\n",
       "      <td>2(1977-1978)</td>\n",
       "      <td>Aamer Hameed</td>\n",
       "      <td>0</td>\n",
       "      <td>NaN</td>\n",
       "      <td>11.0</td>\n",
       "      <td>0</td>\n",
       "      <td>38.0</td>\n",
       "      <td>NaN</td>\n",
       "      <td>1.0</td>\n",
       "    </tr>\n",
       "    <tr>\n",
       "      <th>1</th>\n",
       "      <td>1</td>\n",
       "      <td>0</td>\n",
       "      <td>0.0</td>\n",
       "      <td>6</td>\n",
       "      <td>0</td>\n",
       "      <td>0</td>\n",
       "      <td>47.0</td>\n",
       "      <td>130.0</td>\n",
       "      <td>128.0</td>\n",
       "      <td>30.50</td>\n",
       "      <td>...</td>\n",
       "      <td>NaN</td>\n",
       "      <td>5(1993-1995)</td>\n",
       "      <td>Aamer Hanif</td>\n",
       "      <td>2</td>\n",
       "      <td>0.0</td>\n",
       "      <td>21.4</td>\n",
       "      <td>89</td>\n",
       "      <td>122.0</td>\n",
       "      <td>69.53</td>\n",
       "      <td>4.0</td>\n",
       "    </tr>\n",
       "    <tr>\n",
       "      <th>2</th>\n",
       "      <td>2</td>\n",
       "      <td>0</td>\n",
       "      <td>0.0</td>\n",
       "      <td>40</td>\n",
       "      <td>5</td>\n",
       "      <td>0</td>\n",
       "      <td>56.0</td>\n",
       "      <td>120.0</td>\n",
       "      <td>989.0</td>\n",
       "      <td>28.67</td>\n",
       "      <td>...</td>\n",
       "      <td>1.0</td>\n",
       "      <td>24(1988-1994)</td>\n",
       "      <td>Aamer Malik</td>\n",
       "      <td>1</td>\n",
       "      <td>5.0</td>\n",
       "      <td>20.0</td>\n",
       "      <td>556</td>\n",
       "      <td>86.0</td>\n",
       "      <td>56.22</td>\n",
       "      <td>3.0</td>\n",
       "    </tr>\n",
       "    <tr>\n",
       "      <th>3</th>\n",
       "      <td>3</td>\n",
       "      <td>0</td>\n",
       "      <td>0.0</td>\n",
       "      <td>8</td>\n",
       "      <td>1</td>\n",
       "      <td>5</td>\n",
       "      <td>28.0</td>\n",
       "      <td>156.0</td>\n",
       "      <td>96.0</td>\n",
       "      <td>77.00</td>\n",
       "      <td>...</td>\n",
       "      <td>1.0</td>\n",
       "      <td>4(2015-)</td>\n",
       "      <td>Aamer Yamin</td>\n",
       "      <td>2</td>\n",
       "      <td>NaN</td>\n",
       "      <td>26.0</td>\n",
       "      <td>95</td>\n",
       "      <td>154.0</td>\n",
       "      <td>98.96</td>\n",
       "      <td>2.0</td>\n",
       "    </tr>\n",
       "  </tbody>\n",
       "</table>\n",
       "<p>4 rows × 30 columns</p>\n",
       "</div>"
      ],
      "text/plain": [
       "   Unnamed: 0  100s  4 Wickets in Inn  4s  50s  6s   Age  Balls  Balls_Faced  \\\n",
       "0           0     0               0.0   0    0   0  64.0   88.0          NaN   \n",
       "1           1     0               0.0   6    0   0  47.0  130.0        128.0   \n",
       "2           2     0               0.0  40    5   0  56.0  120.0        989.0   \n",
       "3           3     0               0.0   8    1   5  28.0  156.0         96.0   \n",
       "\n",
       "   Balls_Average  ...  Maidens        Matches          Name Not_Outs  \\\n",
       "0          38.00  ...      2.0   2(1977-1978)  Aamer Hameed        0   \n",
       "1          30.50  ...      NaN   5(1993-1995)   Aamer Hanif        2   \n",
       "2          28.67  ...      1.0  24(1988-1994)   Aamer Malik        1   \n",
       "3          77.00  ...      1.0       4(2015-)   Aamer Yamin        2   \n",
       "\n",
       "  Opening_Batting Overs  Runs  Runs_Conceded Strike_Rate  Wickets  \n",
       "0             NaN  11.0     0           38.0         NaN      1.0  \n",
       "1             0.0  21.4    89          122.0       69.53      4.0  \n",
       "2             5.0  20.0   556           86.0       56.22      3.0  \n",
       "3             NaN  26.0    95          154.0       98.96      2.0  \n",
       "\n",
       "[4 rows x 30 columns]"
      ]
     },
     "execution_count": 3,
     "metadata": {},
     "output_type": "execute_result"
    }
   ],
   "source": [
    "import pandas as pd\n",
    "df = pd.read_csv(\"Cricket_Players_Dataset.csv\")\n",
    "df.head(4)"
   ]
  },
  {
   "cell_type": "code",
   "execution_count": 4,
   "metadata": {},
   "outputs": [
    {
     "data": {
      "text/plain": [
       "pandas.core.frame.DataFrame"
      ]
     },
     "execution_count": 4,
     "metadata": {},
     "output_type": "execute_result"
    }
   ],
   "source": [
    "type(df)"
   ]
  },
  {
   "cell_type": "code",
   "execution_count": 5,
   "metadata": {},
   "outputs": [
    {
     "data": {
      "text/plain": [
       "Unnamed: 0            0\n",
       "100s                  0\n",
       "4 Wickets in Inn    652\n",
       "4s                    0\n",
       "50s                   0\n",
       "6s                    0\n",
       "Age                   5\n",
       "Balls               327\n",
       "Balls_Faced           5\n",
       "Balls_Average       928\n",
       "Bat_Average         207\n",
       "Bats(handed)         19\n",
       "Bowl_Strike_rate    958\n",
       "Bowling_Best        652\n",
       "Bowls(handed)       417\n",
       "DOB                   3\n",
       "Ducks                 0\n",
       "Economy_Rate        680\n",
       "Highest_Score         5\n",
       "Innings               4\n",
       "Maidens             750\n",
       "Matches               0\n",
       "Name                  0\n",
       "Not_Outs              0\n",
       "Opening_Batting     231\n",
       "Overs               328\n",
       "Runs                  0\n",
       "Runs_Conceded       675\n",
       "Strike_Rate         155\n",
       "Wickets             677\n",
       "dtype: int64"
      ]
     },
     "execution_count": 5,
     "metadata": {},
     "output_type": "execute_result"
    }
   ],
   "source": [
    "df.isna().sum()"
   ]
  },
  {
   "cell_type": "code",
   "execution_count": 6,
   "metadata": {},
   "outputs": [
    {
     "data": {
      "text/html": [
       "<div>\n",
       "<style scoped>\n",
       "    .dataframe tbody tr th:only-of-type {\n",
       "        vertical-align: middle;\n",
       "    }\n",
       "\n",
       "    .dataframe tbody tr th {\n",
       "        vertical-align: top;\n",
       "    }\n",
       "\n",
       "    .dataframe thead th {\n",
       "        text-align: right;\n",
       "    }\n",
       "</style>\n",
       "<table border=\"1\" class=\"dataframe\">\n",
       "  <thead>\n",
       "    <tr style=\"text-align: right;\">\n",
       "      <th></th>\n",
       "      <th>Unnamed: 0</th>\n",
       "      <th>4s</th>\n",
       "      <th>50s</th>\n",
       "      <th>6s</th>\n",
       "      <th>Age</th>\n",
       "      <th>Balls</th>\n",
       "      <th>Balls_Faced</th>\n",
       "      <th>Balls_Average</th>\n",
       "      <th>Bat_Average</th>\n",
       "      <th>Bats(handed)</th>\n",
       "      <th>...</th>\n",
       "      <th>Economy_Rate</th>\n",
       "      <th>Highest_Score</th>\n",
       "      <th>Innings</th>\n",
       "      <th>Matches</th>\n",
       "      <th>Name</th>\n",
       "      <th>Not_Outs</th>\n",
       "      <th>Overs</th>\n",
       "      <th>Runs</th>\n",
       "      <th>Strike_Rate</th>\n",
       "      <th>Wickets</th>\n",
       "    </tr>\n",
       "  </thead>\n",
       "  <tbody>\n",
       "    <tr>\n",
       "      <th>0</th>\n",
       "      <td>0</td>\n",
       "      <td>0</td>\n",
       "      <td>0</td>\n",
       "      <td>0</td>\n",
       "      <td>64.0</td>\n",
       "      <td>88.0</td>\n",
       "      <td>NaN</td>\n",
       "      <td>38.00</td>\n",
       "      <td>NaN</td>\n",
       "      <td>Right Handed</td>\n",
       "      <td>...</td>\n",
       "      <td>2.59</td>\n",
       "      <td>NaN</td>\n",
       "      <td>NaN</td>\n",
       "      <td>2(1977-1978)</td>\n",
       "      <td>Aamer Hameed</td>\n",
       "      <td>0</td>\n",
       "      <td>11.0</td>\n",
       "      <td>0</td>\n",
       "      <td>NaN</td>\n",
       "      <td>1.0</td>\n",
       "    </tr>\n",
       "    <tr>\n",
       "      <th>1</th>\n",
       "      <td>1</td>\n",
       "      <td>6</td>\n",
       "      <td>0</td>\n",
       "      <td>0</td>\n",
       "      <td>47.0</td>\n",
       "      <td>130.0</td>\n",
       "      <td>128.0</td>\n",
       "      <td>30.50</td>\n",
       "      <td>44.50</td>\n",
       "      <td>Right Handed</td>\n",
       "      <td>...</td>\n",
       "      <td>5.63</td>\n",
       "      <td>36*</td>\n",
       "      <td>4.0</td>\n",
       "      <td>5(1993-1995)</td>\n",
       "      <td>Aamer Hanif</td>\n",
       "      <td>2</td>\n",
       "      <td>21.4</td>\n",
       "      <td>89</td>\n",
       "      <td>69.53</td>\n",
       "      <td>4.0</td>\n",
       "    </tr>\n",
       "    <tr>\n",
       "      <th>2</th>\n",
       "      <td>2</td>\n",
       "      <td>40</td>\n",
       "      <td>5</td>\n",
       "      <td>0</td>\n",
       "      <td>56.0</td>\n",
       "      <td>120.0</td>\n",
       "      <td>989.0</td>\n",
       "      <td>28.67</td>\n",
       "      <td>25.27</td>\n",
       "      <td>Right Handed</td>\n",
       "      <td>...</td>\n",
       "      <td>4.30</td>\n",
       "      <td>90</td>\n",
       "      <td>23.0</td>\n",
       "      <td>24(1988-1994)</td>\n",
       "      <td>Aamer Malik</td>\n",
       "      <td>1</td>\n",
       "      <td>20.0</td>\n",
       "      <td>556</td>\n",
       "      <td>56.22</td>\n",
       "      <td>3.0</td>\n",
       "    </tr>\n",
       "    <tr>\n",
       "      <th>3</th>\n",
       "      <td>3</td>\n",
       "      <td>8</td>\n",
       "      <td>1</td>\n",
       "      <td>5</td>\n",
       "      <td>28.0</td>\n",
       "      <td>156.0</td>\n",
       "      <td>96.0</td>\n",
       "      <td>77.00</td>\n",
       "      <td>95.00</td>\n",
       "      <td>Right Handed</td>\n",
       "      <td>...</td>\n",
       "      <td>5.92</td>\n",
       "      <td>62</td>\n",
       "      <td>3.0</td>\n",
       "      <td>4(2015-)</td>\n",
       "      <td>Aamer Yamin</td>\n",
       "      <td>2</td>\n",
       "      <td>26.0</td>\n",
       "      <td>95</td>\n",
       "      <td>98.96</td>\n",
       "      <td>2.0</td>\n",
       "    </tr>\n",
       "  </tbody>\n",
       "</table>\n",
       "<p>4 rows × 23 columns</p>\n",
       "</div>"
      ],
      "text/plain": [
       "   Unnamed: 0  4s  50s  6s   Age  Balls  Balls_Faced  Balls_Average  \\\n",
       "0           0   0    0   0  64.0   88.0          NaN          38.00   \n",
       "1           1   6    0   0  47.0  130.0        128.0          30.50   \n",
       "2           2  40    5   0  56.0  120.0        989.0          28.67   \n",
       "3           3   8    1   5  28.0  156.0         96.0          77.00   \n",
       "\n",
       "   Bat_Average  Bats(handed)  ...  Economy_Rate Highest_Score Innings  \\\n",
       "0          NaN  Right Handed  ...          2.59           NaN     NaN   \n",
       "1        44.50  Right Handed  ...          5.63           36*     4.0   \n",
       "2        25.27  Right Handed  ...          4.30            90    23.0   \n",
       "3        95.00  Right Handed  ...          5.92            62     3.0   \n",
       "\n",
       "         Matches          Name  Not_Outs Overs Runs  Strike_Rate  Wickets  \n",
       "0   2(1977-1978)  Aamer Hameed         0  11.0    0          NaN      1.0  \n",
       "1   5(1993-1995)   Aamer Hanif         2  21.4   89        69.53      4.0  \n",
       "2  24(1988-1994)   Aamer Malik         1  20.0  556        56.22      3.0  \n",
       "3       4(2015-)   Aamer Yamin         2  26.0   95        98.96      2.0  \n",
       "\n",
       "[4 rows x 23 columns]"
      ]
     },
     "execution_count": 6,
     "metadata": {},
     "output_type": "execute_result"
    }
   ],
   "source": [
    "#Unwanted Observations\n",
    "df1 = df.drop(columns=['100s','4 Wickets in Inn','Bowling_Best','Ducks','Maidens','Opening_Batting','Runs_Conceded'])\n",
    "df1.head(4)"
   ]
  },
  {
   "cell_type": "code",
   "execution_count": 7,
   "metadata": {},
   "outputs": [
    {
     "name": "stdout",
     "output_type": "stream",
     "text": [
      "Columns =  ['Unnamed: 0', '4s', '50s', '6s', 'Age', 'Balls', 'Balls_Faced', 'Balls_Average', 'Bat_Average', 'Bats(handed)', 'Bowl_Strike_rate', 'Bowls(handed)', 'DOB', 'Economy_Rate', 'Highest_Score', 'Innings', 'Matches', 'Name', 'Not_Outs', 'Overs', 'Runs', 'Strike_Rate', 'Wickets']\n",
      "\n",
      "length is  23\n",
      "\n",
      "num of (rows,columns) =  (2491, 23)\n"
     ]
    }
   ],
   "source": [
    "#About Dataset\n",
    "features = df1.columns.tolist()\n",
    "print(\"Columns = \",features)\n",
    "print(\"\")\n",
    "print('length is ',len(features))\n",
    "print(\"\")\n",
    "print(\"num of (rows,columns) = \",df1.shape)"
   ]
  },
  {
   "cell_type": "code",
   "execution_count": 8,
   "metadata": {},
   "outputs": [
    {
     "data": {
      "text/html": [
       "<div>\n",
       "<style scoped>\n",
       "    .dataframe tbody tr th:only-of-type {\n",
       "        vertical-align: middle;\n",
       "    }\n",
       "\n",
       "    .dataframe tbody tr th {\n",
       "        vertical-align: top;\n",
       "    }\n",
       "\n",
       "    .dataframe thead th {\n",
       "        text-align: right;\n",
       "    }\n",
       "</style>\n",
       "<table border=\"1\" class=\"dataframe\">\n",
       "  <thead>\n",
       "    <tr style=\"text-align: right;\">\n",
       "      <th></th>\n",
       "      <th>Unnamed: 0</th>\n",
       "      <th>4s</th>\n",
       "      <th>50s</th>\n",
       "      <th>6s</th>\n",
       "      <th>Age</th>\n",
       "      <th>Balls</th>\n",
       "      <th>Balls_Faced</th>\n",
       "      <th>Balls_Average</th>\n",
       "      <th>Bat_Average</th>\n",
       "      <th>Bats(handed)</th>\n",
       "      <th>...</th>\n",
       "      <th>Economy_Rate</th>\n",
       "      <th>Highest_Score</th>\n",
       "      <th>Innings</th>\n",
       "      <th>Matches</th>\n",
       "      <th>Name</th>\n",
       "      <th>Not_Outs</th>\n",
       "      <th>Overs</th>\n",
       "      <th>Runs</th>\n",
       "      <th>Strike_Rate</th>\n",
       "      <th>Wickets</th>\n",
       "    </tr>\n",
       "  </thead>\n",
       "  <tbody>\n",
       "    <tr>\n",
       "      <th>1716</th>\n",
       "      <td>1716</td>\n",
       "      <td>1</td>\n",
       "      <td>0</td>\n",
       "      <td>0</td>\n",
       "      <td>57.0</td>\n",
       "      <td>752.0</td>\n",
       "      <td>225.0</td>\n",
       "      <td>73.75</td>\n",
       "      <td>10.30</td>\n",
       "      <td>Right Handed</td>\n",
       "      <td>...</td>\n",
       "      <td>4.71</td>\n",
       "      <td>24</td>\n",
       "      <td>14.0</td>\n",
       "      <td>18(1990-1998)</td>\n",
       "      <td>Mark W Priest</td>\n",
       "      <td>4</td>\n",
       "      <td>125.2</td>\n",
       "      <td>103</td>\n",
       "      <td>45.78</td>\n",
       "      <td>8.0</td>\n",
       "    </tr>\n",
       "    <tr>\n",
       "      <th>372</th>\n",
       "      <td>372</td>\n",
       "      <td>2</td>\n",
       "      <td>0</td>\n",
       "      <td>0</td>\n",
       "      <td>63.0</td>\n",
       "      <td>NaN</td>\n",
       "      <td>143.0</td>\n",
       "      <td>NaN</td>\n",
       "      <td>12.67</td>\n",
       "      <td>Right Handed</td>\n",
       "      <td>...</td>\n",
       "      <td>NaN</td>\n",
       "      <td>19</td>\n",
       "      <td>3.0</td>\n",
       "      <td>3(1979-1979)</td>\n",
       "      <td>Christopher J D Chappell</td>\n",
       "      <td>0</td>\n",
       "      <td>NaN</td>\n",
       "      <td>38</td>\n",
       "      <td>26.57</td>\n",
       "      <td>NaN</td>\n",
       "    </tr>\n",
       "    <tr>\n",
       "      <th>163</th>\n",
       "      <td>163</td>\n",
       "      <td>68</td>\n",
       "      <td>4</td>\n",
       "      <td>10</td>\n",
       "      <td>42.0</td>\n",
       "      <td>183.0</td>\n",
       "      <td>1180.0</td>\n",
       "      <td>49.67</td>\n",
       "      <td>33.35</td>\n",
       "      <td>Left Handed</td>\n",
       "      <td>...</td>\n",
       "      <td>4.89</td>\n",
       "      <td>100</td>\n",
       "      <td>36.0</td>\n",
       "      <td>40(2000-2004)</td>\n",
       "      <td>Hemang K Badani</td>\n",
       "      <td>10</td>\n",
       "      <td>30.3</td>\n",
       "      <td>867</td>\n",
       "      <td>73.47</td>\n",
       "      <td>3.0</td>\n",
       "    </tr>\n",
       "    <tr>\n",
       "      <th>63</th>\n",
       "      <td>63</td>\n",
       "      <td>0</td>\n",
       "      <td>0</td>\n",
       "      <td>0</td>\n",
       "      <td>53.0</td>\n",
       "      <td>338.0</td>\n",
       "      <td>28.0</td>\n",
       "      <td>23.18</td>\n",
       "      <td>NaN</td>\n",
       "      <td>Right Handed</td>\n",
       "      <td>...</td>\n",
       "      <td>4.53</td>\n",
       "      <td>6*</td>\n",
       "      <td>3.0</td>\n",
       "      <td>9(1996-1997)</td>\n",
       "      <td>Rajab W Ali</td>\n",
       "      <td>3</td>\n",
       "      <td>56.2</td>\n",
       "      <td>7</td>\n",
       "      <td>25.00</td>\n",
       "      <td>11.0</td>\n",
       "    </tr>\n",
       "    <tr>\n",
       "      <th>74</th>\n",
       "      <td>74</td>\n",
       "      <td>130</td>\n",
       "      <td>13</td>\n",
       "      <td>9</td>\n",
       "      <td>68.0</td>\n",
       "      <td>2730.0</td>\n",
       "      <td>3334.0</td>\n",
       "      <td>42.85</td>\n",
       "      <td>30.54</td>\n",
       "      <td>Right Handed</td>\n",
       "      <td>...</td>\n",
       "      <td>4.33</td>\n",
       "      <td>102*</td>\n",
       "      <td>75.0</td>\n",
       "      <td>85(1975-1989)</td>\n",
       "      <td>Mohinder Amarnath</td>\n",
       "      <td>12</td>\n",
       "      <td>450.2</td>\n",
       "      <td>1924</td>\n",
       "      <td>57.71</td>\n",
       "      <td>46.0</td>\n",
       "    </tr>\n",
       "    <tr>\n",
       "      <th>...</th>\n",
       "      <td>...</td>\n",
       "      <td>...</td>\n",
       "      <td>...</td>\n",
       "      <td>...</td>\n",
       "      <td>...</td>\n",
       "      <td>...</td>\n",
       "      <td>...</td>\n",
       "      <td>...</td>\n",
       "      <td>...</td>\n",
       "      <td>...</td>\n",
       "      <td>...</td>\n",
       "      <td>...</td>\n",
       "      <td>...</td>\n",
       "      <td>...</td>\n",
       "      <td>...</td>\n",
       "      <td>...</td>\n",
       "      <td>...</td>\n",
       "      <td>...</td>\n",
       "      <td>...</td>\n",
       "      <td>...</td>\n",
       "      <td>...</td>\n",
       "    </tr>\n",
       "    <tr>\n",
       "      <th>1147</th>\n",
       "      <td>1147</td>\n",
       "      <td>6</td>\n",
       "      <td>0</td>\n",
       "      <td>1</td>\n",
       "      <td>37.0</td>\n",
       "      <td>642.0</td>\n",
       "      <td>381.0</td>\n",
       "      <td>38.92</td>\n",
       "      <td>17.91</td>\n",
       "      <td>Right Handed</td>\n",
       "      <td>...</td>\n",
       "      <td>4.36</td>\n",
       "      <td>37</td>\n",
       "      <td>14.0</td>\n",
       "      <td>15(2010-2011)</td>\n",
       "      <td>Gregory A Lamb</td>\n",
       "      <td>3</td>\n",
       "      <td>107.0</td>\n",
       "      <td>197</td>\n",
       "      <td>51.71</td>\n",
       "      <td>12.0</td>\n",
       "    </tr>\n",
       "    <tr>\n",
       "      <th>509</th>\n",
       "      <td>509</td>\n",
       "      <td>0</td>\n",
       "      <td>0</td>\n",
       "      <td>0</td>\n",
       "      <td>63.0</td>\n",
       "      <td>194.0</td>\n",
       "      <td>18.0</td>\n",
       "      <td>NaN</td>\n",
       "      <td>9.00</td>\n",
       "      <td>Right Handed</td>\n",
       "      <td>...</td>\n",
       "      <td>5.23</td>\n",
       "      <td>7</td>\n",
       "      <td>2.0</td>\n",
       "      <td>4(1983-1985)</td>\n",
       "      <td>Granville N De Silva</td>\n",
       "      <td>1</td>\n",
       "      <td>32.2</td>\n",
       "      <td>9</td>\n",
       "      <td>50.00</td>\n",
       "      <td>0.0</td>\n",
       "    </tr>\n",
       "    <tr>\n",
       "      <th>1030</th>\n",
       "      <td>1030</td>\n",
       "      <td>66</td>\n",
       "      <td>6</td>\n",
       "      <td>3</td>\n",
       "      <td>69.0</td>\n",
       "      <td>105.0</td>\n",
       "      <td>1331.0</td>\n",
       "      <td>21.33</td>\n",
       "      <td>34.42</td>\n",
       "      <td>Left Handed</td>\n",
       "      <td>...</td>\n",
       "      <td>3.66</td>\n",
       "      <td>78</td>\n",
       "      <td>28.0</td>\n",
       "      <td>31(1973-1981)</td>\n",
       "      <td>Alvin I Kallicharran</td>\n",
       "      <td>4</td>\n",
       "      <td>17.3</td>\n",
       "      <td>826</td>\n",
       "      <td>62.06</td>\n",
       "      <td>3.0</td>\n",
       "    </tr>\n",
       "    <tr>\n",
       "      <th>109</th>\n",
       "      <td>109</td>\n",
       "      <td>0</td>\n",
       "      <td>0</td>\n",
       "      <td>0</td>\n",
       "      <td>25.0</td>\n",
       "      <td>423.0</td>\n",
       "      <td>45.0</td>\n",
       "      <td>37.70</td>\n",
       "      <td>3.33</td>\n",
       "      <td>Right Handed</td>\n",
       "      <td>...</td>\n",
       "      <td>5.35</td>\n",
       "      <td>4</td>\n",
       "      <td>7.0</td>\n",
       "      <td>9(2016-)</td>\n",
       "      <td>M Amila Aponso</td>\n",
       "      <td>4</td>\n",
       "      <td>70.3</td>\n",
       "      <td>10</td>\n",
       "      <td>22.22</td>\n",
       "      <td>10.0</td>\n",
       "    </tr>\n",
       "    <tr>\n",
       "      <th>2203</th>\n",
       "      <td>2203</td>\n",
       "      <td>0</td>\n",
       "      <td>0</td>\n",
       "      <td>0</td>\n",
       "      <td>39.0</td>\n",
       "      <td>24.0</td>\n",
       "      <td>0.0</td>\n",
       "      <td>NaN</td>\n",
       "      <td>NaN</td>\n",
       "      <td>Left Handed</td>\n",
       "      <td>...</td>\n",
       "      <td>10.50</td>\n",
       "      <td>0</td>\n",
       "      <td>0.0</td>\n",
       "      <td>1(2009-2009)</td>\n",
       "      <td>Ewen P Thompson</td>\n",
       "      <td>0</td>\n",
       "      <td>4.0</td>\n",
       "      <td>0</td>\n",
       "      <td>NaN</td>\n",
       "      <td>0.0</td>\n",
       "    </tr>\n",
       "  </tbody>\n",
       "</table>\n",
       "<p>2491 rows × 23 columns</p>\n",
       "</div>"
      ],
      "text/plain": [
       "      Unnamed: 0   4s  50s  6s   Age   Balls  Balls_Faced  Balls_Average  \\\n",
       "1716        1716    1    0   0  57.0   752.0        225.0          73.75   \n",
       "372          372    2    0   0  63.0     NaN        143.0            NaN   \n",
       "163          163   68    4  10  42.0   183.0       1180.0          49.67   \n",
       "63            63    0    0   0  53.0   338.0         28.0          23.18   \n",
       "74            74  130   13   9  68.0  2730.0       3334.0          42.85   \n",
       "...          ...  ...  ...  ..   ...     ...          ...            ...   \n",
       "1147        1147    6    0   1  37.0   642.0        381.0          38.92   \n",
       "509          509    0    0   0  63.0   194.0         18.0            NaN   \n",
       "1030        1030   66    6   3  69.0   105.0       1331.0          21.33   \n",
       "109          109    0    0   0  25.0   423.0         45.0          37.70   \n",
       "2203        2203    0    0   0  39.0    24.0          0.0            NaN   \n",
       "\n",
       "      Bat_Average  Bats(handed)  ...  Economy_Rate Highest_Score Innings  \\\n",
       "1716        10.30  Right Handed  ...          4.71            24    14.0   \n",
       "372         12.67  Right Handed  ...           NaN            19     3.0   \n",
       "163         33.35   Left Handed  ...          4.89           100    36.0   \n",
       "63            NaN  Right Handed  ...          4.53            6*     3.0   \n",
       "74          30.54  Right Handed  ...          4.33          102*    75.0   \n",
       "...           ...           ...  ...           ...           ...     ...   \n",
       "1147        17.91  Right Handed  ...          4.36            37    14.0   \n",
       "509          9.00  Right Handed  ...          5.23             7     2.0   \n",
       "1030        34.42   Left Handed  ...          3.66            78    28.0   \n",
       "109          3.33  Right Handed  ...          5.35             4     7.0   \n",
       "2203          NaN   Left Handed  ...         10.50             0     0.0   \n",
       "\n",
       "            Matches                      Name  Not_Outs  Overs  Runs  \\\n",
       "1716  18(1990-1998)             Mark W Priest         4  125.2   103   \n",
       "372    3(1979-1979)  Christopher J D Chappell         0    NaN    38   \n",
       "163   40(2000-2004)           Hemang K Badani        10   30.3   867   \n",
       "63     9(1996-1997)               Rajab W Ali         3   56.2     7   \n",
       "74    85(1975-1989)         Mohinder Amarnath        12  450.2  1924   \n",
       "...             ...                       ...       ...    ...   ...   \n",
       "1147  15(2010-2011)            Gregory A Lamb         3  107.0   197   \n",
       "509    4(1983-1985)      Granville N De Silva         1   32.2     9   \n",
       "1030  31(1973-1981)      Alvin I Kallicharran         4   17.3   826   \n",
       "109        9(2016-)            M Amila Aponso         4   70.3    10   \n",
       "2203   1(2009-2009)           Ewen P Thompson         0    4.0     0   \n",
       "\n",
       "      Strike_Rate  Wickets  \n",
       "1716        45.78      8.0  \n",
       "372         26.57      NaN  \n",
       "163         73.47      3.0  \n",
       "63          25.00     11.0  \n",
       "74          57.71     46.0  \n",
       "...           ...      ...  \n",
       "1147        51.71     12.0  \n",
       "509         50.00      0.0  \n",
       "1030        62.06      3.0  \n",
       "109         22.22     10.0  \n",
       "2203          NaN      0.0  \n",
       "\n",
       "[2491 rows x 23 columns]"
      ]
     },
     "execution_count": 8,
     "metadata": {},
     "output_type": "execute_result"
    }
   ],
   "source": [
    "#Sampling the Dataset with Random sampling\n",
    "sampler = np.random.permutation(2491)\n",
    "df1.take(sampler)"
   ]
  },
  {
   "cell_type": "code",
   "execution_count": 9,
   "metadata": {},
   "outputs": [
    {
     "data": {
      "text/html": [
       "<div>\n",
       "<style scoped>\n",
       "    .dataframe tbody tr th:only-of-type {\n",
       "        vertical-align: middle;\n",
       "    }\n",
       "\n",
       "    .dataframe tbody tr th {\n",
       "        vertical-align: top;\n",
       "    }\n",
       "\n",
       "    .dataframe thead th {\n",
       "        text-align: right;\n",
       "    }\n",
       "</style>\n",
       "<table border=\"1\" class=\"dataframe\">\n",
       "  <thead>\n",
       "    <tr style=\"text-align: right;\">\n",
       "      <th></th>\n",
       "      <th>Unnamed: 0</th>\n",
       "      <th>4s</th>\n",
       "      <th>50s</th>\n",
       "      <th>6s</th>\n",
       "      <th>Age</th>\n",
       "      <th>Balls</th>\n",
       "      <th>Balls_Faced</th>\n",
       "      <th>Balls_Average</th>\n",
       "      <th>Bat_Average</th>\n",
       "      <th>Bats(handed)</th>\n",
       "      <th>...</th>\n",
       "      <th>Economy_Rate</th>\n",
       "      <th>Highest_Score</th>\n",
       "      <th>Innings</th>\n",
       "      <th>Matches</th>\n",
       "      <th>Name</th>\n",
       "      <th>Not_Outs</th>\n",
       "      <th>Overs</th>\n",
       "      <th>Runs</th>\n",
       "      <th>Strike_Rate</th>\n",
       "      <th>Wickets</th>\n",
       "    </tr>\n",
       "  </thead>\n",
       "  <tbody>\n",
       "    <tr>\n",
       "      <th>1026</th>\n",
       "      <td>1026</td>\n",
       "      <td>0</td>\n",
       "      <td>0</td>\n",
       "      <td>0</td>\n",
       "      <td>44.0</td>\n",
       "      <td>371.0</td>\n",
       "      <td>25.0</td>\n",
       "      <td>25.25</td>\n",
       "      <td>10.0</td>\n",
       "      <td>Right Handed</td>\n",
       "      <td>...</td>\n",
       "      <td>4.90</td>\n",
       "      <td>5</td>\n",
       "      <td>5.0</td>\n",
       "      <td>10(1994-2000)</td>\n",
       "      <td>Kabir Khan</td>\n",
       "      <td>4</td>\n",
       "      <td>61.5</td>\n",
       "      <td>10</td>\n",
       "      <td>40.00</td>\n",
       "      <td>12.0</td>\n",
       "    </tr>\n",
       "    <tr>\n",
       "      <th>1057</th>\n",
       "      <td>1057</td>\n",
       "      <td>0</td>\n",
       "      <td>0</td>\n",
       "      <td>0</td>\n",
       "      <td>20.0</td>\n",
       "      <td>24.0</td>\n",
       "      <td>33.0</td>\n",
       "      <td>NaN</td>\n",
       "      <td>9.0</td>\n",
       "      <td>Right Handed</td>\n",
       "      <td>...</td>\n",
       "      <td>7.75</td>\n",
       "      <td>9</td>\n",
       "      <td>1.0</td>\n",
       "      <td>1(2017-)</td>\n",
       "      <td>Karim Janat</td>\n",
       "      <td>0</td>\n",
       "      <td>4.0</td>\n",
       "      <td>9</td>\n",
       "      <td>27.27</td>\n",
       "      <td>0.0</td>\n",
       "    </tr>\n",
       "    <tr>\n",
       "      <th>243</th>\n",
       "      <td>243</td>\n",
       "      <td>15</td>\n",
       "      <td>0</td>\n",
       "      <td>1</td>\n",
       "      <td>33.0</td>\n",
       "      <td>2022.0</td>\n",
       "      <td>248.0</td>\n",
       "      <td>43.89</td>\n",
       "      <td>10.0</td>\n",
       "      <td>Left Handed</td>\n",
       "      <td>...</td>\n",
       "      <td>4.95</td>\n",
       "      <td>22*</td>\n",
       "      <td>25.0</td>\n",
       "      <td>42(2011-)</td>\n",
       "      <td>Devendra Bishoo</td>\n",
       "      <td>10</td>\n",
       "      <td>337.0</td>\n",
       "      <td>150</td>\n",
       "      <td>60.48</td>\n",
       "      <td>38.0</td>\n",
       "    </tr>\n",
       "    <tr>\n",
       "      <th>79</th>\n",
       "      <td>79</td>\n",
       "      <td>1</td>\n",
       "      <td>0</td>\n",
       "      <td>0</td>\n",
       "      <td>40.0</td>\n",
       "      <td>426.0</td>\n",
       "      <td>9.0</td>\n",
       "      <td>40.33</td>\n",
       "      <td>NaN</td>\n",
       "      <td>Right Handed</td>\n",
       "      <td>...</td>\n",
       "      <td>5.11</td>\n",
       "      <td>5*</td>\n",
       "      <td>4.0</td>\n",
       "      <td>8(2007-2008)</td>\n",
       "      <td>Merenna K D I Amerasinghe</td>\n",
       "      <td>4</td>\n",
       "      <td>71.0</td>\n",
       "      <td>6</td>\n",
       "      <td>66.67</td>\n",
       "      <td>9.0</td>\n",
       "    </tr>\n",
       "    <tr>\n",
       "      <th>1922</th>\n",
       "      <td>1922</td>\n",
       "      <td>0</td>\n",
       "      <td>0</td>\n",
       "      <td>1</td>\n",
       "      <td>44.0</td>\n",
       "      <td>498.0</td>\n",
       "      <td>11.0</td>\n",
       "      <td>39.90</td>\n",
       "      <td>4.0</td>\n",
       "      <td>NaN</td>\n",
       "      <td>...</td>\n",
       "      <td>4.81</td>\n",
       "      <td>8</td>\n",
       "      <td>2.0</td>\n",
       "      <td>10(1998-1998)</td>\n",
       "      <td>Rahul L Sanghvi</td>\n",
       "      <td>0</td>\n",
       "      <td>83.0</td>\n",
       "      <td>8</td>\n",
       "      <td>72.73</td>\n",
       "      <td>10.0</td>\n",
       "    </tr>\n",
       "  </tbody>\n",
       "</table>\n",
       "<p>5 rows × 23 columns</p>\n",
       "</div>"
      ],
      "text/plain": [
       "      Unnamed: 0  4s  50s  6s   Age   Balls  Balls_Faced  Balls_Average  \\\n",
       "1026        1026   0    0   0  44.0   371.0         25.0          25.25   \n",
       "1057        1057   0    0   0  20.0    24.0         33.0            NaN   \n",
       "243          243  15    0   1  33.0  2022.0        248.0          43.89   \n",
       "79            79   1    0   0  40.0   426.0          9.0          40.33   \n",
       "1922        1922   0    0   1  44.0   498.0         11.0          39.90   \n",
       "\n",
       "      Bat_Average  Bats(handed)  ...  Economy_Rate Highest_Score Innings  \\\n",
       "1026         10.0  Right Handed  ...          4.90             5     5.0   \n",
       "1057          9.0  Right Handed  ...          7.75             9     1.0   \n",
       "243          10.0   Left Handed  ...          4.95           22*    25.0   \n",
       "79            NaN  Right Handed  ...          5.11            5*     4.0   \n",
       "1922          4.0           NaN  ...          4.81             8     2.0   \n",
       "\n",
       "            Matches                       Name  Not_Outs  Overs Runs  \\\n",
       "1026  10(1994-2000)                 Kabir Khan         4   61.5   10   \n",
       "1057       1(2017-)                Karim Janat         0    4.0    9   \n",
       "243       42(2011-)            Devendra Bishoo        10  337.0  150   \n",
       "79     8(2007-2008)  Merenna K D I Amerasinghe         4   71.0    6   \n",
       "1922  10(1998-1998)            Rahul L Sanghvi         0   83.0    8   \n",
       "\n",
       "      Strike_Rate  Wickets  \n",
       "1026        40.00     12.0  \n",
       "1057        27.27      0.0  \n",
       "243         60.48     38.0  \n",
       "79          66.67      9.0  \n",
       "1922        72.73     10.0  \n",
       "\n",
       "[5 rows x 23 columns]"
      ]
     },
     "execution_count": 9,
     "metadata": {},
     "output_type": "execute_result"
    }
   ],
   "source": [
    "#After Sampling\n",
    "df_new = df1.sample(n=750)\n",
    "df_new.tail()"
   ]
  },
  {
   "cell_type": "code",
   "execution_count": 10,
   "metadata": {},
   "outputs": [
    {
     "data": {
      "text/plain": [
       "Unnamed: 0            0\n",
       "4s                    0\n",
       "50s                   0\n",
       "6s                    0\n",
       "Age                   2\n",
       "Balls                98\n",
       "Balls_Faced           0\n",
       "Balls_Average       260\n",
       "Bat_Average          65\n",
       "Bats(handed)          4\n",
       "Bowl_Strike_rate    271\n",
       "Bowls(handed)       113\n",
       "DOB                   1\n",
       "Economy_Rate        198\n",
       "Highest_Score         2\n",
       "Innings               1\n",
       "Matches               0\n",
       "Name                  0\n",
       "Not_Outs              0\n",
       "Overs                98\n",
       "Runs                  0\n",
       "Strike_Rate          44\n",
       "Wickets             197\n",
       "dtype: int64"
      ]
     },
     "execution_count": 10,
     "metadata": {},
     "output_type": "execute_result"
    }
   ],
   "source": [
    "#Before Imputing\n",
    "df_new.isna().sum()"
   ]
  },
  {
   "cell_type": "code",
   "execution_count": 11,
   "metadata": {},
   "outputs": [],
   "source": [
    "#Handling not available values with Imputing \n",
    "\n",
    "df_new['Bat_Average'] = df_new['Bat_Average'].fillna(0)\n",
    "df_new['Balls'] = df_new['Balls'].fillna(0)\n",
    "df_new['Balls_Average'] = df_new['Balls_Average'].fillna(0)\n",
    "df_new['Bowl_Strike_rate'] = df_new['Bowl_Strike_rate'].fillna(0)\n",
    "df_new['Overs'] = df_new['Overs'].fillna(0)\n",
    "df_new['Wickets'] = df_new['Wickets'].fillna(0)\n",
    "df_new['Bowl_Strike_rate'] = df_new['Bowl_Strike_rate'].fillna(df_new.mean())\n",
    "df_new['Economy_Rate'] = df_new['Economy_Rate'].fillna(df_new.mean())\n",
    "df_new['Innings'] = df_new['Innings'].fillna(df_new.mean())\n",
    "df_new = df_new.apply(lambda x:x.fillna(x.value_counts().index[0]))"
   ]
  },
  {
   "cell_type": "code",
   "execution_count": 12,
   "metadata": {},
   "outputs": [
    {
     "data": {
      "text/plain": [
       "Unnamed: 0          0\n",
       "4s                  0\n",
       "50s                 0\n",
       "6s                  0\n",
       "Age                 0\n",
       "Balls               0\n",
       "Balls_Faced         0\n",
       "Balls_Average       0\n",
       "Bat_Average         0\n",
       "Bats(handed)        0\n",
       "Bowl_Strike_rate    0\n",
       "Bowls(handed)       0\n",
       "DOB                 0\n",
       "Economy_Rate        0\n",
       "Highest_Score       0\n",
       "Innings             0\n",
       "Matches             0\n",
       "Name                0\n",
       "Not_Outs            0\n",
       "Overs               0\n",
       "Runs                0\n",
       "Strike_Rate         0\n",
       "Wickets             0\n",
       "dtype: int64"
      ]
     },
     "execution_count": 12,
     "metadata": {},
     "output_type": "execute_result"
    }
   ],
   "source": [
    "#After Imputing\n",
    "df_new.isna().sum()"
   ]
  },
  {
   "cell_type": "code",
   "execution_count": 13,
   "metadata": {},
   "outputs": [
    {
     "data": {
      "text/html": [
       "<div>\n",
       "<style scoped>\n",
       "    .dataframe tbody tr th:only-of-type {\n",
       "        vertical-align: middle;\n",
       "    }\n",
       "\n",
       "    .dataframe tbody tr th {\n",
       "        vertical-align: top;\n",
       "    }\n",
       "\n",
       "    .dataframe thead th {\n",
       "        text-align: right;\n",
       "    }\n",
       "</style>\n",
       "<table border=\"1\" class=\"dataframe\">\n",
       "  <thead>\n",
       "    <tr style=\"text-align: right;\">\n",
       "      <th></th>\n",
       "      <th>Unnamed: 0</th>\n",
       "      <th>4s</th>\n",
       "      <th>50s</th>\n",
       "      <th>6s</th>\n",
       "      <th>Age</th>\n",
       "      <th>Balls</th>\n",
       "      <th>Balls_Faced</th>\n",
       "      <th>Balls_Average</th>\n",
       "      <th>Bat_Average</th>\n",
       "      <th>Bats(handed)</th>\n",
       "      <th>...</th>\n",
       "      <th>Economy_Rate</th>\n",
       "      <th>Highest_Score</th>\n",
       "      <th>Innings</th>\n",
       "      <th>Matches</th>\n",
       "      <th>Name</th>\n",
       "      <th>Not_Outs</th>\n",
       "      <th>Overs</th>\n",
       "      <th>Runs</th>\n",
       "      <th>Strike_Rate</th>\n",
       "      <th>Wickets</th>\n",
       "    </tr>\n",
       "  </thead>\n",
       "  <tbody>\n",
       "    <tr>\n",
       "      <th>243</th>\n",
       "      <td>243</td>\n",
       "      <td>15</td>\n",
       "      <td>0</td>\n",
       "      <td>1</td>\n",
       "      <td>33.0</td>\n",
       "      <td>2022.0</td>\n",
       "      <td>248.0</td>\n",
       "      <td>43.89</td>\n",
       "      <td>10.0</td>\n",
       "      <td>Left Handed</td>\n",
       "      <td>...</td>\n",
       "      <td>4.95</td>\n",
       "      <td>22*</td>\n",
       "      <td>25.0</td>\n",
       "      <td>42(2011-)</td>\n",
       "      <td>Devendra Bishoo</td>\n",
       "      <td>10</td>\n",
       "      <td>337.0</td>\n",
       "      <td>150</td>\n",
       "      <td>60.48</td>\n",
       "      <td>38.0</td>\n",
       "    </tr>\n",
       "    <tr>\n",
       "      <th>79</th>\n",
       "      <td>79</td>\n",
       "      <td>1</td>\n",
       "      <td>0</td>\n",
       "      <td>0</td>\n",
       "      <td>40.0</td>\n",
       "      <td>426.0</td>\n",
       "      <td>9.0</td>\n",
       "      <td>40.33</td>\n",
       "      <td>0.0</td>\n",
       "      <td>Right Handed</td>\n",
       "      <td>...</td>\n",
       "      <td>5.11</td>\n",
       "      <td>5*</td>\n",
       "      <td>4.0</td>\n",
       "      <td>8(2007-2008)</td>\n",
       "      <td>Merenna K D I Amerasinghe</td>\n",
       "      <td>4</td>\n",
       "      <td>71.0</td>\n",
       "      <td>6</td>\n",
       "      <td>66.67</td>\n",
       "      <td>9.0</td>\n",
       "    </tr>\n",
       "    <tr>\n",
       "      <th>1922</th>\n",
       "      <td>1922</td>\n",
       "      <td>0</td>\n",
       "      <td>0</td>\n",
       "      <td>1</td>\n",
       "      <td>44.0</td>\n",
       "      <td>498.0</td>\n",
       "      <td>11.0</td>\n",
       "      <td>39.90</td>\n",
       "      <td>4.0</td>\n",
       "      <td>Right Handed</td>\n",
       "      <td>...</td>\n",
       "      <td>4.81</td>\n",
       "      <td>8</td>\n",
       "      <td>2.0</td>\n",
       "      <td>10(1998-1998)</td>\n",
       "      <td>Rahul L Sanghvi</td>\n",
       "      <td>0</td>\n",
       "      <td>83.0</td>\n",
       "      <td>8</td>\n",
       "      <td>72.73</td>\n",
       "      <td>10.0</td>\n",
       "    </tr>\n",
       "  </tbody>\n",
       "</table>\n",
       "<p>3 rows × 23 columns</p>\n",
       "</div>"
      ],
      "text/plain": [
       "      Unnamed: 0  4s  50s  6s   Age   Balls  Balls_Faced  Balls_Average  \\\n",
       "243          243  15    0   1  33.0  2022.0        248.0          43.89   \n",
       "79            79   1    0   0  40.0   426.0          9.0          40.33   \n",
       "1922        1922   0    0   1  44.0   498.0         11.0          39.90   \n",
       "\n",
       "      Bat_Average  Bats(handed)  ...  Economy_Rate Highest_Score Innings  \\\n",
       "243          10.0   Left Handed  ...          4.95           22*    25.0   \n",
       "79            0.0  Right Handed  ...          5.11            5*     4.0   \n",
       "1922          4.0  Right Handed  ...          4.81             8     2.0   \n",
       "\n",
       "            Matches                       Name  Not_Outs  Overs Runs  \\\n",
       "243       42(2011-)            Devendra Bishoo        10  337.0  150   \n",
       "79     8(2007-2008)  Merenna K D I Amerasinghe         4   71.0    6   \n",
       "1922  10(1998-1998)            Rahul L Sanghvi         0   83.0    8   \n",
       "\n",
       "      Strike_Rate  Wickets  \n",
       "243         60.48     38.0  \n",
       "79          66.67      9.0  \n",
       "1922        72.73     10.0  \n",
       "\n",
       "[3 rows x 23 columns]"
      ]
     },
     "execution_count": 13,
     "metadata": {},
     "output_type": "execute_result"
    }
   ],
   "source": [
    "df_new.tail(3)"
   ]
  },
  {
   "cell_type": "code",
   "execution_count": 14,
   "metadata": {},
   "outputs": [
    {
     "data": {
      "image/png": "[encoded data removed]",
      "text/plain": [
       "<Figure size 288x216 with 1 Axes>"
      ]
     },
     "metadata": {
      "needs_background": "light"
     },
     "output_type": "display_data"
    },
    {
     "data": {
      "image/png": "[encoded data removed]",
      "text/plain": [
       "<Figure size 288x216 with 1 Axes>"
      ]
     },
     "metadata": {
      "needs_background": "light"
     },
     "output_type": "display_data"
    },
    {
     "data": {
      "image/png": "[encoded data removed]",
      "text/plain": [
       "<Figure size 288x216 with 1 Axes>"
      ]
     },
     "metadata": {
      "needs_background": "light"
     },
     "output_type": "display_data"
    },
    {
     "data": {
      "image/png": "[encoded data removed]",
      "text/plain": [
       "<Figure size 288x216 with 1 Axes>"
      ]
     },
     "metadata": {
      "needs_background": "light"
     },
     "output_type": "display_data"
    },
    {
     "data": {
      "image/png": "[encoded data removed]",
      "text/plain": [
       "<Figure size 288x216 with 1 Axes>"
      ]
     },
     "metadata": {
      "needs_background": "light"
     },
     "output_type": "display_data"
    },
    {
     "data": {
      "image/png": "[encoded data removed]",
      "text/plain": [
       "<Figure size 288x216 with 1 Axes>"
      ]
     },
     "metadata": {
      "needs_background": "light"
     },
     "output_type": "display_data"
    },
    {
     "data": {
      "image/png": "[encoded data removed]",
      "text/plain": [
       "<Figure size 288x216 with 1 Axes>"
      ]
     },
     "metadata": {
      "needs_background": "light"
     },
     "output_type": "display_data"
    },
    {
     "data": {
      "image/png": "[encoded data removed]",
      "text/plain": [
       "<Figure size 288x216 with 1 Axes>"
      ]
     },
     "metadata": {
      "needs_background": "light"
     },
     "output_type": "display_data"
    },
    {
     "data": {
      "image/png": "[encoded data removed]",
      "text/plain": [
       "<Figure size 288x216 with 1 Axes>"
      ]
     },
     "metadata": {
      "needs_background": "light"
     },
     "output_type": "display_data"
    },
    {
     "data": {
      "image/png": "[encoded data removed]",
      "text/plain": [
       "<Figure size 288x216 with 1 Axes>"
      ]
     },
     "metadata": {
      "needs_background": "light"
     },
     "output_type": "display_data"
    },
    {
     "data": {
      "image/png": "[encoded data removed]",
      "text/plain": [
       "<Figure size 288x216 with 1 Axes>"
      ]
     },
     "metadata": {
      "needs_background": "light"
     },
     "output_type": "display_data"
    },
    {
     "data": {
      "image/png": "[encoded data removed]",
      "text/plain": [
       "<Figure size 288x216 with 1 Axes>"
      ]
     },
     "metadata": {
      "needs_background": "light"
     },
     "output_type": "display_data"
    },
    {
     "data": {
      "image/png": "[encoded data removed]",
      "text/plain": [
       "<Figure size 288x216 with 1 Axes>"
      ]
     },
     "metadata": {
      "needs_background": "light"
     },
     "output_type": "display_data"
    },
    {
     "data": {
      "image/png": "[encoded data removed]",
      "text/plain": [
       "<Figure size 288x216 with 1 Axes>"
      ]
     },
     "metadata": {
      "needs_background": "light"
     },
     "output_type": "display_data"
    },
    {
     "data": {
      "image/png": "[encoded data removed]",
      "text/plain": [
       "<Figure size 288x216 with 1 Axes>"
      ]
     },
     "metadata": {
      "needs_background": "light"
     },
     "output_type": "display_data"
    },
    {
     "data": {
      "image/png": "[encoded data removed]",
      "text/plain": [
       "<Figure size 288x216 with 1 Axes>"
      ]
     },
     "metadata": {
      "needs_background": "light"
     },
     "output_type": "display_data"
    }
   ],
   "source": [
    "hist = df_new.hist(bins = 30,column = '4s',figsize = (4,3))\n",
    "hist = df_new.hist(bins = 30,column = '50s',figsize = (4,3))\n",
    "hist = df_new.hist(bins = 30,column = '6s',figsize = (4,3))\n",
    "hist = df_new.hist(bins = 30,column = 'Age',figsize = (4,3))\n",
    "hist = df_new.hist(bins = 30,column = 'Balls',figsize = (4,3))\n",
    "hist = df_new.hist(bins = 30,column = 'Balls_Faced',figsize = (4,3))\n",
    "hist = df_new.hist(bins = 30,column = 'Balls_Average',figsize = (4,3))\n",
    "hist = df_new.hist(bins = 30,column = 'Bat_Average',figsize = (4,3))\n",
    "hist = df_new.hist(bins = 30,column = 'Bowl_Strike_rate',figsize = (4,3))\n",
    "hist = df_new.hist(bins = 30,column = 'Economy_Rate',figsize = (4,3))\n",
    "hist = df_new.hist(bins = 25,column = 'Innings',figsize = (4,3))\n",
    "hist = df_new.hist(bins = 25,column = 'Not_Outs',figsize = (4,3))\n",
    "hist = df_new.hist(bins = 25,column = 'Overs',figsize = (4,3))\n",
    "hist = df_new.hist(bins = 25,column = 'Runs',figsize = (4,3))\n",
    "hist = df_new.hist(bins = 25,column = 'Strike_Rate',figsize = (4,3))\n",
    "hist = df_new.hist(bins = 30,column = 'Wickets',figsize = (4,3))"
   ]
  },
  {
   "cell_type": "code",
   "execution_count": 15,
   "metadata": {},
   "outputs": [
    {
     "data": {
      "text/plain": [
       "<matplotlib.axes._subplots.AxesSubplot at 0x21decf670d0>"
      ]
     },
     "execution_count": 15,
     "metadata": {},
     "output_type": "execute_result"
    },
    {
     "data": {
      "image/png": "[encoded data removed]",
      "text/plain": [
       "<Figure size 432x288 with 1 Axes>"
      ]
     },
     "metadata": {
      "needs_background": "light"
     },
     "output_type": "display_data"
    }
   ],
   "source": [
    "df_new.boxplot('Age')"
   ]
  },
  {
   "cell_type": "code",
   "execution_count": 16,
   "metadata": {},
   "outputs": [],
   "source": [
    "q1=df_new['Age'].quantile(0.25)\n",
    "q3=df_new['Age'].quantile(0.75)\n",
    "iqr=q3-q1\n",
    "filter = (df_new['Age'] >=q1-1.5*iqr) & (df_new['Age'] <=q3+1.5*iqr)\n"
   ]
  },
  {
   "cell_type": "code",
   "execution_count": 17,
   "metadata": {},
   "outputs": [],
   "source": [
    "df_new=df_new.loc[filter]"
   ]
  },
  {
   "cell_type": "code",
   "execution_count": 18,
   "metadata": {},
   "outputs": [
    {
     "data": {
      "text/plain": [
       "42.5402144772118"
      ]
     },
     "execution_count": 18,
     "metadata": {},
     "output_type": "execute_result"
    },
    {
     "data": {
      "image/png": "[encoded data removed]",
      "text/plain": [
       "<Figure size 432x288 with 1 Axes>"
      ]
     },
     "metadata": {
      "needs_background": "light"
     },
     "output_type": "display_data"
    }
   ],
   "source": [
    "df_new.boxplot('Age')\n",
    "df_new['Age'].mean()"
   ]
  },
  {
   "cell_type": "code",
   "execution_count": 19,
   "metadata": {},
   "outputs": [
    {
     "data": {
      "text/plain": [
       "<matplotlib.axes._subplots.AxesSubplot at 0x21ded59cc10>"
      ]
     },
     "execution_count": 19,
     "metadata": {},
     "output_type": "execute_result"
    },
    {
     "data": {
      "image/png": "[encoded data removed]",
      "text/plain": [
       "<Figure size 432x288 with 1 Axes>"
      ]
     },
     "metadata": {
      "needs_background": "light"
     },
     "output_type": "display_data"
    }
   ],
   "source": [
    "df_new.boxplot('Bat_Average')"
   ]
  },
  {
   "cell_type": "code",
   "execution_count": 20,
   "metadata": {},
   "outputs": [],
   "source": [
    "q1=df_new['Bat_Average'].quantile(0.25)\n",
    "q3=df_new['Bat_Average'].quantile(0.75)\n",
    "iqr=q3-q1\n",
    "filter = (df_new['Bat_Average'] >=q1-1.5*iqr) & (df_new['Bat_Average'] <=q3+1.5*iqr)\n"
   ]
  },
  {
   "cell_type": "code",
   "execution_count": 21,
   "metadata": {},
   "outputs": [],
   "source": [
    "df_new=df_new.loc[filter]"
   ]
  },
  {
   "cell_type": "code",
   "execution_count": 22,
   "metadata": {},
   "outputs": [
    {
     "data": {
      "text/plain": [
       "<matplotlib.axes._subplots.AxesSubplot at 0x21ded605b20>"
      ]
     },
     "execution_count": 22,
     "metadata": {},
     "output_type": "execute_result"
    },
    {
     "data": {
      "image/png": "[encoded data removed]",
      "text/plain": [
       "<Figure size 432x288 with 1 Axes>"
      ]
     },
     "metadata": {
      "needs_background": "light"
     },
     "output_type": "display_data"
    }
   ],
   "source": [
    "df_new.boxplot('Bat_Average')"
   ]
  },
  {
   "cell_type": "code",
   "execution_count": 23,
   "metadata": {},
   "outputs": [
    {
     "data": {
      "text/html": [
       "<div>\n",
       "<style scoped>\n",
       "    .dataframe tbody tr th:only-of-type {\n",
       "        vertical-align: middle;\n",
       "    }\n",
       "\n",
       "    .dataframe tbody tr th {\n",
       "        vertical-align: top;\n",
       "    }\n",
       "\n",
       "    .dataframe thead th {\n",
       "        text-align: right;\n",
       "    }\n",
       "</style>\n",
       "<table border=\"1\" class=\"dataframe\">\n",
       "  <thead>\n",
       "    <tr style=\"text-align: right;\">\n",
       "      <th></th>\n",
       "      <th>Unnamed: 0</th>\n",
       "      <th>4s</th>\n",
       "      <th>50s</th>\n",
       "      <th>6s</th>\n",
       "      <th>Age</th>\n",
       "      <th>Balls</th>\n",
       "      <th>Balls_Faced</th>\n",
       "      <th>Balls_Average</th>\n",
       "      <th>Bat_Average</th>\n",
       "      <th>Bats(handed)</th>\n",
       "      <th>...</th>\n",
       "      <th>Economy_Rate</th>\n",
       "      <th>Highest_Score</th>\n",
       "      <th>Innings</th>\n",
       "      <th>Matches</th>\n",
       "      <th>Name</th>\n",
       "      <th>Not_Outs</th>\n",
       "      <th>Overs</th>\n",
       "      <th>Runs</th>\n",
       "      <th>Strike_Rate</th>\n",
       "      <th>Wickets</th>\n",
       "    </tr>\n",
       "  </thead>\n",
       "  <tbody>\n",
       "    <tr>\n",
       "      <th>2097</th>\n",
       "      <td>2097</td>\n",
       "      <td>2</td>\n",
       "      <td>0</td>\n",
       "      <td>0</td>\n",
       "      <td>36.0</td>\n",
       "      <td>2476.0</td>\n",
       "      <td>121.0</td>\n",
       "      <td>33.44</td>\n",
       "      <td>4.00</td>\n",
       "      <td>Right Handed</td>\n",
       "      <td>...</td>\n",
       "      <td>6.08</td>\n",
       "      <td>10*</td>\n",
       "      <td>21.0</td>\n",
       "      <td>53(2005-2011)</td>\n",
       "      <td>Shanthakumaran Sreesanth</td>\n",
       "      <td>10</td>\n",
       "      <td>412.4</td>\n",
       "      <td>44</td>\n",
       "      <td>36.36</td>\n",
       "      <td>75.0</td>\n",
       "    </tr>\n",
       "    <tr>\n",
       "      <th>92</th>\n",
       "      <td>92</td>\n",
       "      <td>86</td>\n",
       "      <td>4</td>\n",
       "      <td>55</td>\n",
       "      <td>28.0</td>\n",
       "      <td>1485.0</td>\n",
       "      <td>1020.0</td>\n",
       "      <td>25.03</td>\n",
       "      <td>27.73</td>\n",
       "      <td>Left Handed</td>\n",
       "      <td>...</td>\n",
       "      <td>6.07</td>\n",
       "      <td>131*</td>\n",
       "      <td>44.0</td>\n",
       "      <td>49(2013-)</td>\n",
       "      <td>Corey J Anderson</td>\n",
       "      <td>4</td>\n",
       "      <td>247.3</td>\n",
       "      <td>1109</td>\n",
       "      <td>108.73</td>\n",
       "      <td>60.0</td>\n",
       "    </tr>\n",
       "    <tr>\n",
       "      <th>670</th>\n",
       "      <td>670</td>\n",
       "      <td>0</td>\n",
       "      <td>0</td>\n",
       "      <td>0</td>\n",
       "      <td>38.0</td>\n",
       "      <td>0.0</td>\n",
       "      <td>71.0</td>\n",
       "      <td>0.00</td>\n",
       "      <td>13.67</td>\n",
       "      <td>Right Handed</td>\n",
       "      <td>...</td>\n",
       "      <td>5.00</td>\n",
       "      <td>13</td>\n",
       "      <td>6.0</td>\n",
       "      <td>11(2001-2002)</td>\n",
       "      <td>James S Foster</td>\n",
       "      <td>3</td>\n",
       "      <td>0.0</td>\n",
       "      <td>41</td>\n",
       "      <td>57.75</td>\n",
       "      <td>0.0</td>\n",
       "    </tr>\n",
       "    <tr>\n",
       "      <th>2170</th>\n",
       "      <td>2170</td>\n",
       "      <td>2</td>\n",
       "      <td>0</td>\n",
       "      <td>0</td>\n",
       "      <td>35.0</td>\n",
       "      <td>465.0</td>\n",
       "      <td>73.0</td>\n",
       "      <td>32.62</td>\n",
       "      <td>26.00</td>\n",
       "      <td>Right Handed</td>\n",
       "      <td>...</td>\n",
       "      <td>5.47</td>\n",
       "      <td>11*</td>\n",
       "      <td>8.0</td>\n",
       "      <td>10(2002-2004)</td>\n",
       "      <td>Tareq Aziz</td>\n",
       "      <td>7</td>\n",
       "      <td>77.3</td>\n",
       "      <td>26</td>\n",
       "      <td>35.62</td>\n",
       "      <td>13.0</td>\n",
       "    </tr>\n",
       "    <tr>\n",
       "      <th>970</th>\n",
       "      <td>970</td>\n",
       "      <td>449</td>\n",
       "      <td>50</td>\n",
       "      <td>44</td>\n",
       "      <td>61.0</td>\n",
       "      <td>436.0</td>\n",
       "      <td>11014.0</td>\n",
       "      <td>42.43</td>\n",
       "      <td>41.70</td>\n",
       "      <td>Right Handed</td>\n",
       "      <td>...</td>\n",
       "      <td>4.09</td>\n",
       "      <td>119*</td>\n",
       "      <td>218.0</td>\n",
       "      <td>233(1975-1996)</td>\n",
       "      <td>Javed Miandad</td>\n",
       "      <td>41</td>\n",
       "      <td>64.0</td>\n",
       "      <td>7381</td>\n",
       "      <td>67.01</td>\n",
       "      <td>7.0</td>\n",
       "    </tr>\n",
       "    <tr>\n",
       "      <th>...</th>\n",
       "      <td>...</td>\n",
       "      <td>...</td>\n",
       "      <td>...</td>\n",
       "      <td>...</td>\n",
       "      <td>...</td>\n",
       "      <td>...</td>\n",
       "      <td>...</td>\n",
       "      <td>...</td>\n",
       "      <td>...</td>\n",
       "      <td>...</td>\n",
       "      <td>...</td>\n",
       "      <td>...</td>\n",
       "      <td>...</td>\n",
       "      <td>...</td>\n",
       "      <td>...</td>\n",
       "      <td>...</td>\n",
       "      <td>...</td>\n",
       "      <td>...</td>\n",
       "      <td>...</td>\n",
       "      <td>...</td>\n",
       "      <td>...</td>\n",
       "    </tr>\n",
       "    <tr>\n",
       "      <th>1026</th>\n",
       "      <td>1026</td>\n",
       "      <td>0</td>\n",
       "      <td>0</td>\n",
       "      <td>0</td>\n",
       "      <td>44.0</td>\n",
       "      <td>371.0</td>\n",
       "      <td>25.0</td>\n",
       "      <td>25.25</td>\n",
       "      <td>10.00</td>\n",
       "      <td>Right Handed</td>\n",
       "      <td>...</td>\n",
       "      <td>4.90</td>\n",
       "      <td>5</td>\n",
       "      <td>5.0</td>\n",
       "      <td>10(1994-2000)</td>\n",
       "      <td>Kabir Khan</td>\n",
       "      <td>4</td>\n",
       "      <td>61.5</td>\n",
       "      <td>10</td>\n",
       "      <td>40.00</td>\n",
       "      <td>12.0</td>\n",
       "    </tr>\n",
       "    <tr>\n",
       "      <th>1057</th>\n",
       "      <td>1057</td>\n",
       "      <td>0</td>\n",
       "      <td>0</td>\n",
       "      <td>0</td>\n",
       "      <td>20.0</td>\n",
       "      <td>24.0</td>\n",
       "      <td>33.0</td>\n",
       "      <td>0.00</td>\n",
       "      <td>9.00</td>\n",
       "      <td>Right Handed</td>\n",
       "      <td>...</td>\n",
       "      <td>7.75</td>\n",
       "      <td>9</td>\n",
       "      <td>1.0</td>\n",
       "      <td>1(2017-)</td>\n",
       "      <td>Karim Janat</td>\n",
       "      <td>0</td>\n",
       "      <td>4.0</td>\n",
       "      <td>9</td>\n",
       "      <td>27.27</td>\n",
       "      <td>0.0</td>\n",
       "    </tr>\n",
       "    <tr>\n",
       "      <th>243</th>\n",
       "      <td>243</td>\n",
       "      <td>15</td>\n",
       "      <td>0</td>\n",
       "      <td>1</td>\n",
       "      <td>33.0</td>\n",
       "      <td>2022.0</td>\n",
       "      <td>248.0</td>\n",
       "      <td>43.89</td>\n",
       "      <td>10.00</td>\n",
       "      <td>Left Handed</td>\n",
       "      <td>...</td>\n",
       "      <td>4.95</td>\n",
       "      <td>22*</td>\n",
       "      <td>25.0</td>\n",
       "      <td>42(2011-)</td>\n",
       "      <td>Devendra Bishoo</td>\n",
       "      <td>10</td>\n",
       "      <td>337.0</td>\n",
       "      <td>150</td>\n",
       "      <td>60.48</td>\n",
       "      <td>38.0</td>\n",
       "    </tr>\n",
       "    <tr>\n",
       "      <th>79</th>\n",
       "      <td>79</td>\n",
       "      <td>1</td>\n",
       "      <td>0</td>\n",
       "      <td>0</td>\n",
       "      <td>40.0</td>\n",
       "      <td>426.0</td>\n",
       "      <td>9.0</td>\n",
       "      <td>40.33</td>\n",
       "      <td>0.00</td>\n",
       "      <td>Right Handed</td>\n",
       "      <td>...</td>\n",
       "      <td>5.11</td>\n",
       "      <td>5*</td>\n",
       "      <td>4.0</td>\n",
       "      <td>8(2007-2008)</td>\n",
       "      <td>Merenna K D I Amerasinghe</td>\n",
       "      <td>4</td>\n",
       "      <td>71.0</td>\n",
       "      <td>6</td>\n",
       "      <td>66.67</td>\n",
       "      <td>9.0</td>\n",
       "    </tr>\n",
       "    <tr>\n",
       "      <th>1922</th>\n",
       "      <td>1922</td>\n",
       "      <td>0</td>\n",
       "      <td>0</td>\n",
       "      <td>1</td>\n",
       "      <td>44.0</td>\n",
       "      <td>498.0</td>\n",
       "      <td>11.0</td>\n",
       "      <td>39.90</td>\n",
       "      <td>4.00</td>\n",
       "      <td>Right Handed</td>\n",
       "      <td>...</td>\n",
       "      <td>4.81</td>\n",
       "      <td>8</td>\n",
       "      <td>2.0</td>\n",
       "      <td>10(1998-1998)</td>\n",
       "      <td>Rahul L Sanghvi</td>\n",
       "      <td>0</td>\n",
       "      <td>83.0</td>\n",
       "      <td>8</td>\n",
       "      <td>72.73</td>\n",
       "      <td>10.0</td>\n",
       "    </tr>\n",
       "  </tbody>\n",
       "</table>\n",
       "<p>740 rows × 23 columns</p>\n",
       "</div>"
      ],
      "text/plain": [
       "      Unnamed: 0   4s  50s  6s   Age   Balls  Balls_Faced  Balls_Average  \\\n",
       "2097        2097    2    0   0  36.0  2476.0        121.0          33.44   \n",
       "92            92   86    4  55  28.0  1485.0       1020.0          25.03   \n",
       "670          670    0    0   0  38.0     0.0         71.0           0.00   \n",
       "2170        2170    2    0   0  35.0   465.0         73.0          32.62   \n",
       "970          970  449   50  44  61.0   436.0      11014.0          42.43   \n",
       "...          ...  ...  ...  ..   ...     ...          ...            ...   \n",
       "1026        1026    0    0   0  44.0   371.0         25.0          25.25   \n",
       "1057        1057    0    0   0  20.0    24.0         33.0           0.00   \n",
       "243          243   15    0   1  33.0  2022.0        248.0          43.89   \n",
       "79            79    1    0   0  40.0   426.0          9.0          40.33   \n",
       "1922        1922    0    0   1  44.0   498.0         11.0          39.90   \n",
       "\n",
       "      Bat_Average  Bats(handed)  ...  Economy_Rate Highest_Score Innings  \\\n",
       "2097         4.00  Right Handed  ...          6.08           10*    21.0   \n",
       "92          27.73   Left Handed  ...          6.07          131*    44.0   \n",
       "670         13.67  Right Handed  ...          5.00            13     6.0   \n",
       "2170        26.00  Right Handed  ...          5.47           11*     8.0   \n",
       "970         41.70  Right Handed  ...          4.09          119*   218.0   \n",
       "...           ...           ...  ...           ...           ...     ...   \n",
       "1026        10.00  Right Handed  ...          4.90             5     5.0   \n",
       "1057         9.00  Right Handed  ...          7.75             9     1.0   \n",
       "243         10.00   Left Handed  ...          4.95           22*    25.0   \n",
       "79           0.00  Right Handed  ...          5.11            5*     4.0   \n",
       "1922         4.00  Right Handed  ...          4.81             8     2.0   \n",
       "\n",
       "             Matches                       Name  Not_Outs  Overs  Runs  \\\n",
       "2097   53(2005-2011)   Shanthakumaran Sreesanth        10  412.4    44   \n",
       "92         49(2013-)           Corey J Anderson         4  247.3  1109   \n",
       "670    11(2001-2002)             James S Foster         3    0.0    41   \n",
       "2170   10(2002-2004)                 Tareq Aziz         7   77.3    26   \n",
       "970   233(1975-1996)              Javed Miandad        41   64.0  7381   \n",
       "...              ...                        ...       ...    ...   ...   \n",
       "1026   10(1994-2000)                 Kabir Khan         4   61.5    10   \n",
       "1057        1(2017-)                Karim Janat         0    4.0     9   \n",
       "243        42(2011-)            Devendra Bishoo        10  337.0   150   \n",
       "79      8(2007-2008)  Merenna K D I Amerasinghe         4   71.0     6   \n",
       "1922   10(1998-1998)            Rahul L Sanghvi         0   83.0     8   \n",
       "\n",
       "      Strike_Rate  Wickets  \n",
       "2097        36.36     75.0  \n",
       "92         108.73     60.0  \n",
       "670         57.75      0.0  \n",
       "2170        35.62     13.0  \n",
       "970         67.01      7.0  \n",
       "...           ...      ...  \n",
       "1026        40.00     12.0  \n",
       "1057        27.27      0.0  \n",
       "243         60.48     38.0  \n",
       "79          66.67      9.0  \n",
       "1922        72.73     10.0  \n",
       "\n",
       "[740 rows x 23 columns]"
      ]
     },
     "execution_count": 23,
     "metadata": {},
     "output_type": "execute_result"
    }
   ],
   "source": [
    "df_new"
   ]
  },
  {
   "cell_type": "code",
   "execution_count": 24,
   "metadata": {},
   "outputs": [
    {
     "data": {
      "text/plain": [
       "<matplotlib.axes._subplots.AxesSubplot at 0x21dee62e730>"
      ]
     },
     "execution_count": 24,
     "metadata": {},
     "output_type": "execute_result"
    },
    {
     "data": {
      "image/png": "[encoded data removed]",
      "text/plain": [
       "<Figure size 432x288 with 1 Axes>"
      ]
     },
     "metadata": {
      "needs_background": "light"
     },
     "output_type": "display_data"
    }
   ],
   "source": [
    "sns.countplot(x='Bats(handed)',data=df_new)"
   ]
  },
  {
   "cell_type": "code",
   "execution_count": 25,
   "metadata": {},
   "outputs": [
    {
     "data": {
      "text/plain": [
       "<matplotlib.axes._subplots.AxesSubplot at 0x21dee6b8a30>"
      ]
     },
     "execution_count": 25,
     "metadata": {},
     "output_type": "execute_result"
    },
    {
     "data": {
      "image/png": "[encoded data removed]",
      "text/plain": [
       "<Figure size 432x288 with 1 Axes>"
      ]
     },
     "metadata": {
      "needs_background": "light"
     },
     "output_type": "display_data"
    }
   ],
   "source": [
    "sns.barplot(x='Age',y='Runs',data=df_new)"
   ]
  },
  {
   "cell_type": "code",
   "execution_count": 26,
   "metadata": {},
   "outputs": [
    {
     "data": {
      "text/plain": [
       "Unnamed: 0          1264.702703\n",
       "4s                    56.798649\n",
       "50s                    3.362162\n",
       "6s                     7.904054\n",
       "Age                   42.614865\n",
       "Balls                860.793243\n",
       "Balls_Faced          880.098649\n",
       "Balls_Average         26.549878\n",
       "Bat_Average           16.002338\n",
       "Bowl_Strike_rate      31.910054\n",
       "Economy_Rate           5.151446\n",
       "Innings               28.700000\n",
       "Not_Outs               5.318919\n",
       "Overs                144.217297\n",
       "Runs                 652.948649\n",
       "Strike_Rate           62.872054\n",
       "Wickets               20.851351\n",
       "dtype: float64"
      ]
     },
     "execution_count": 26,
     "metadata": {},
     "output_type": "execute_result"
    }
   ],
   "source": [
    "df_new.mean()"
   ]
  },
  {
   "cell_type": "code",
   "execution_count": 27,
   "metadata": {},
   "outputs": [
    {
     "data": {
      "text/plain": [
       "Unnamed: 0          5.282421e+05\n",
       "4s                  2.380336e+04\n",
       "50s                 9.659938e+01\n",
       "6s                  4.317134e+02\n",
       "Age                 2.014144e+02\n",
       "Balls               3.217423e+06\n",
       "Balls_Faced         4.452196e+06\n",
       "Balls_Average       8.131999e+02\n",
       "Bat_Average         1.385873e+02\n",
       "Bowl_Strike_rate    1.012855e+03\n",
       "Economy_Rate        2.025493e+00\n",
       "Innings             2.640830e+03\n",
       "Not_Outs            8.170600e+01\n",
       "Overs               8.909260e+04\n",
       "Runs                2.709240e+06\n",
       "Strike_Rate         4.936303e+02\n",
       "Wickets             2.113299e+03\n",
       "dtype: float64"
      ]
     },
     "execution_count": 27,
     "metadata": {},
     "output_type": "execute_result"
    }
   ],
   "source": [
    "df_new.var()"
   ]
  },
  {
   "cell_type": "code",
   "execution_count": 28,
   "metadata": {},
   "outputs": [
    {
     "data": {
      "text/html": [
       "<div>\n",
       "<style scoped>\n",
       "    .dataframe tbody tr th:only-of-type {\n",
       "        vertical-align: middle;\n",
       "    }\n",
       "\n",
       "    .dataframe tbody tr th {\n",
       "        vertical-align: top;\n",
       "    }\n",
       "\n",
       "    .dataframe thead th {\n",
       "        text-align: right;\n",
       "    }\n",
       "</style>\n",
       "<table border=\"1\" class=\"dataframe\">\n",
       "  <thead>\n",
       "    <tr style=\"text-align: right;\">\n",
       "      <th></th>\n",
       "      <th>Unnamed: 0</th>\n",
       "      <th>4s</th>\n",
       "      <th>50s</th>\n",
       "      <th>6s</th>\n",
       "      <th>Age</th>\n",
       "      <th>Balls</th>\n",
       "      <th>Balls_Faced</th>\n",
       "      <th>Balls_Average</th>\n",
       "      <th>Bat_Average</th>\n",
       "      <th>Bowl_Strike_rate</th>\n",
       "      <th>Economy_Rate</th>\n",
       "      <th>Innings</th>\n",
       "      <th>Not_Outs</th>\n",
       "      <th>Overs</th>\n",
       "      <th>Runs</th>\n",
       "      <th>Strike_Rate</th>\n",
       "      <th>Wickets</th>\n",
       "    </tr>\n",
       "  </thead>\n",
       "  <tbody>\n",
       "    <tr>\n",
       "      <th>count</th>\n",
       "      <td>740.000000</td>\n",
       "      <td>740.000000</td>\n",
       "      <td>740.000000</td>\n",
       "      <td>740.000000</td>\n",
       "      <td>740.000000</td>\n",
       "      <td>740.000000</td>\n",
       "      <td>740.000000</td>\n",
       "      <td>740.000000</td>\n",
       "      <td>740.000000</td>\n",
       "      <td>740.000000</td>\n",
       "      <td>740.000000</td>\n",
       "      <td>740.000000</td>\n",
       "      <td>740.000000</td>\n",
       "      <td>740.000000</td>\n",
       "      <td>740.000000</td>\n",
       "      <td>740.000000</td>\n",
       "      <td>740.000000</td>\n",
       "    </tr>\n",
       "    <tr>\n",
       "      <th>mean</th>\n",
       "      <td>1264.702703</td>\n",
       "      <td>56.798649</td>\n",
       "      <td>3.362162</td>\n",
       "      <td>7.904054</td>\n",
       "      <td>42.614865</td>\n",
       "      <td>860.793243</td>\n",
       "      <td>880.098649</td>\n",
       "      <td>26.549878</td>\n",
       "      <td>16.002338</td>\n",
       "      <td>31.910054</td>\n",
       "      <td>5.151446</td>\n",
       "      <td>28.700000</td>\n",
       "      <td>5.318919</td>\n",
       "      <td>144.217297</td>\n",
       "      <td>652.948649</td>\n",
       "      <td>62.872054</td>\n",
       "      <td>20.851351</td>\n",
       "    </tr>\n",
       "    <tr>\n",
       "      <th>std</th>\n",
       "      <td>726.802626</td>\n",
       "      <td>154.283375</td>\n",
       "      <td>9.828498</td>\n",
       "      <td>20.777714</td>\n",
       "      <td>14.192054</td>\n",
       "      <td>1793.717683</td>\n",
       "      <td>2110.022800</td>\n",
       "      <td>28.516660</td>\n",
       "      <td>11.772312</td>\n",
       "      <td>31.825379</td>\n",
       "      <td>1.423198</td>\n",
       "      <td>51.389007</td>\n",
       "      <td>9.039137</td>\n",
       "      <td>298.483832</td>\n",
       "      <td>1645.976937</td>\n",
       "      <td>22.217792</td>\n",
       "      <td>45.970627</td>\n",
       "    </tr>\n",
       "    <tr>\n",
       "      <th>min</th>\n",
       "      <td>4.000000</td>\n",
       "      <td>0.000000</td>\n",
       "      <td>0.000000</td>\n",
       "      <td>0.000000</td>\n",
       "      <td>3.000000</td>\n",
       "      <td>0.000000</td>\n",
       "      <td>0.000000</td>\n",
       "      <td>0.000000</td>\n",
       "      <td>0.000000</td>\n",
       "      <td>0.000000</td>\n",
       "      <td>0.000000</td>\n",
       "      <td>0.000000</td>\n",
       "      <td>0.000000</td>\n",
       "      <td>0.000000</td>\n",
       "      <td>0.000000</td>\n",
       "      <td>5.000000</td>\n",
       "      <td>0.000000</td>\n",
       "    </tr>\n",
       "    <tr>\n",
       "      <th>25%</th>\n",
       "      <td>648.750000</td>\n",
       "      <td>1.000000</td>\n",
       "      <td>0.000000</td>\n",
       "      <td>0.000000</td>\n",
       "      <td>32.000000</td>\n",
       "      <td>2.750000</td>\n",
       "      <td>38.000000</td>\n",
       "      <td>0.000000</td>\n",
       "      <td>6.500000</td>\n",
       "      <td>0.000000</td>\n",
       "      <td>4.630000</td>\n",
       "      <td>3.000000</td>\n",
       "      <td>0.000000</td>\n",
       "      <td>3.000000</td>\n",
       "      <td>19.000000</td>\n",
       "      <td>49.865000</td>\n",
       "      <td>0.000000</td>\n",
       "    </tr>\n",
       "    <tr>\n",
       "      <th>50%</th>\n",
       "      <td>1276.500000</td>\n",
       "      <td>7.000000</td>\n",
       "      <td>0.000000</td>\n",
       "      <td>1.000000</td>\n",
       "      <td>41.000000</td>\n",
       "      <td>158.000000</td>\n",
       "      <td>158.000000</td>\n",
       "      <td>27.000000</td>\n",
       "      <td>14.855000</td>\n",
       "      <td>33.940000</td>\n",
       "      <td>5.000000</td>\n",
       "      <td>9.000000</td>\n",
       "      <td>2.000000</td>\n",
       "      <td>28.700000</td>\n",
       "      <td>94.500000</td>\n",
       "      <td>64.850000</td>\n",
       "      <td>3.000000</td>\n",
       "    </tr>\n",
       "    <tr>\n",
       "      <th>75%</th>\n",
       "      <td>1888.750000</td>\n",
       "      <td>31.250000</td>\n",
       "      <td>1.000000</td>\n",
       "      <td>5.000000</td>\n",
       "      <td>52.000000</td>\n",
       "      <td>770.500000</td>\n",
       "      <td>562.750000</td>\n",
       "      <td>39.135000</td>\n",
       "      <td>24.000000</td>\n",
       "      <td>49.417500</td>\n",
       "      <td>5.332500</td>\n",
       "      <td>27.000000</td>\n",
       "      <td>6.000000</td>\n",
       "      <td>128.275000</td>\n",
       "      <td>397.750000</td>\n",
       "      <td>75.292500</td>\n",
       "      <td>17.000000</td>\n",
       "    </tr>\n",
       "    <tr>\n",
       "      <th>max</th>\n",
       "      <td>2489.000000</td>\n",
       "      <td>2016.000000</td>\n",
       "      <td>96.000000</td>\n",
       "      <td>215.000000</td>\n",
       "      <td>80.000000</td>\n",
       "      <td>15775.000000</td>\n",
       "      <td>21367.000000</td>\n",
       "      <td>251.000000</td>\n",
       "      <td>49.750000</td>\n",
       "      <td>234.000000</td>\n",
       "      <td>21.000000</td>\n",
       "      <td>452.000000</td>\n",
       "      <td>72.000000</td>\n",
       "      <td>2629.100000</td>\n",
       "      <td>18426.000000</td>\n",
       "      <td>150.000000</td>\n",
       "      <td>400.000000</td>\n",
       "    </tr>\n",
       "  </tbody>\n",
       "</table>\n",
       "</div>"
      ],
      "text/plain": [
       "        Unnamed: 0           4s         50s          6s         Age  \\\n",
       "count   740.000000   740.000000  740.000000  740.000000  740.000000   \n",
       "mean   1264.702703    56.798649    3.362162    7.904054   42.614865   \n",
       "std     726.802626   154.283375    9.828498   20.777714   14.192054   \n",
       "min       4.000000     0.000000    0.000000    0.000000    3.000000   \n",
       "25%     648.750000     1.000000    0.000000    0.000000   32.000000   \n",
       "50%    1276.500000     7.000000    0.000000    1.000000   41.000000   \n",
       "75%    1888.750000    31.250000    1.000000    5.000000   52.000000   \n",
       "max    2489.000000  2016.000000   96.000000  215.000000   80.000000   \n",
       "\n",
       "              Balls   Balls_Faced  Balls_Average  Bat_Average  \\\n",
       "count    740.000000    740.000000     740.000000   740.000000   \n",
       "mean     860.793243    880.098649      26.549878    16.002338   \n",
       "std     1793.717683   2110.022800      28.516660    11.772312   \n",
       "min        0.000000      0.000000       0.000000     0.000000   \n",
       "25%        2.750000     38.000000       0.000000     6.500000   \n",
       "50%      158.000000    158.000000      27.000000    14.855000   \n",
       "75%      770.500000    562.750000      39.135000    24.000000   \n",
       "max    15775.000000  21367.000000     251.000000    49.750000   \n",
       "\n",
       "       Bowl_Strike_rate  Economy_Rate     Innings    Not_Outs        Overs  \\\n",
       "count        740.000000    740.000000  740.000000  740.000000   740.000000   \n",
       "mean          31.910054      5.151446   28.700000    5.318919   144.217297   \n",
       "std           31.825379      1.423198   51.389007    9.039137   298.483832   \n",
       "min            0.000000      0.000000    0.000000    0.000000     0.000000   \n",
       "25%            0.000000      4.630000    3.000000    0.000000     3.000000   \n",
       "50%           33.940000      5.000000    9.000000    2.000000    28.700000   \n",
       "75%           49.417500      5.332500   27.000000    6.000000   128.275000   \n",
       "max          234.000000     21.000000  452.000000   72.000000  2629.100000   \n",
       "\n",
       "               Runs  Strike_Rate     Wickets  \n",
       "count    740.000000   740.000000  740.000000  \n",
       "mean     652.948649    62.872054   20.851351  \n",
       "std     1645.976937    22.217792   45.970627  \n",
       "min        0.000000     5.000000    0.000000  \n",
       "25%       19.000000    49.865000    0.000000  \n",
       "50%       94.500000    64.850000    3.000000  \n",
       "75%      397.750000    75.292500   17.000000  \n",
       "max    18426.000000   150.000000  400.000000  "
      ]
     },
     "execution_count": 28,
     "metadata": {},
     "output_type": "execute_result"
    }
   ],
   "source": [
    "df_new.describe()"
   ]
  },
  {
   "cell_type": "code",
   "execution_count": 29,
   "metadata": {},
   "outputs": [],
   "source": [
    "q_1=df_new['Strike_Rate'].quantile(0.25)\n",
    "q_3=df_new['Strike_Rate'].quantile(0.75)\n",
    "iqr_=q_3-q_1\n",
    "filter = (df_new['Strike_Rate'] >=q_1-1.5*iqr_) & (df_new['Strike_Rate'] <=q_3+1.5*iqr_)"
   ]
  },
  {
   "cell_type": "code",
   "execution_count": 30,
   "metadata": {},
   "outputs": [],
   "source": [
    "df_new=df_new.loc[filter]\n"
   ]
  },
  {
   "cell_type": "code",
   "execution_count": 31,
   "metadata": {},
   "outputs": [],
   "source": [
    "list_cont=['4s','50s','6s','Age','Balls','Balls_Faced','Balls_Average','Bat_Average','Bowl_Strike_rate','Economy_Rate','Innings','Not_Outs','Overs','Runs','Strike_Rate','Wickets']"
   ]
  },
  {
   "cell_type": "code",
   "execution_count": 32,
   "metadata": {},
   "outputs": [
    {
     "data": {
      "text/html": [
       "<div>\n",
       "<style scoped>\n",
       "    .dataframe tbody tr th:only-of-type {\n",
       "        vertical-align: middle;\n",
       "    }\n",
       "\n",
       "    .dataframe tbody tr th {\n",
       "        vertical-align: top;\n",
       "    }\n",
       "\n",
       "    .dataframe thead th {\n",
       "        text-align: right;\n",
       "    }\n",
       "</style>\n",
       "<table border=\"1\" class=\"dataframe\">\n",
       "  <thead>\n",
       "    <tr style=\"text-align: right;\">\n",
       "      <th></th>\n",
       "      <th>Unnamed: 0</th>\n",
       "      <th>4s</th>\n",
       "      <th>50s</th>\n",
       "      <th>6s</th>\n",
       "      <th>Age</th>\n",
       "      <th>Balls</th>\n",
       "      <th>Balls_Faced</th>\n",
       "      <th>Balls_Average</th>\n",
       "      <th>Bat_Average</th>\n",
       "      <th>Bowl_Strike_rate</th>\n",
       "      <th>Economy_Rate</th>\n",
       "      <th>Innings</th>\n",
       "      <th>Not_Outs</th>\n",
       "      <th>Overs</th>\n",
       "      <th>Runs</th>\n",
       "      <th>Strike_Rate</th>\n",
       "      <th>Wickets</th>\n",
       "    </tr>\n",
       "  </thead>\n",
       "  <tbody>\n",
       "    <tr>\n",
       "      <th>count</th>\n",
       "      <td>717.000000</td>\n",
       "      <td>717.000000</td>\n",
       "      <td>717.000000</td>\n",
       "      <td>717.000000</td>\n",
       "      <td>717.000000</td>\n",
       "      <td>717.000000</td>\n",
       "      <td>717.000000</td>\n",
       "      <td>717.000000</td>\n",
       "      <td>717.000000</td>\n",
       "      <td>717.000000</td>\n",
       "      <td>717.000000</td>\n",
       "      <td>717.000000</td>\n",
       "      <td>717.000000</td>\n",
       "      <td>717.000000</td>\n",
       "      <td>717.000000</td>\n",
       "      <td>717.000000</td>\n",
       "      <td>717.000000</td>\n",
       "    </tr>\n",
       "    <tr>\n",
       "      <th>mean</th>\n",
       "      <td>1253.951185</td>\n",
       "      <td>0.028872</td>\n",
       "      <td>0.036059</td>\n",
       "      <td>0.037294</td>\n",
       "      <td>0.517071</td>\n",
       "      <td>0.055991</td>\n",
       "      <td>0.042347</td>\n",
       "      <td>0.104579</td>\n",
       "      <td>0.326264</td>\n",
       "      <td>0.135742</td>\n",
       "      <td>0.244374</td>\n",
       "      <td>0.065033</td>\n",
       "      <td>0.075740</td>\n",
       "      <td>0.056288</td>\n",
       "      <td>0.036365</td>\n",
       "      <td>0.497529</td>\n",
       "      <td>0.053490</td>\n",
       "    </tr>\n",
       "    <tr>\n",
       "      <th>std</th>\n",
       "      <td>723.219346</td>\n",
       "      <td>0.077591</td>\n",
       "      <td>0.103832</td>\n",
       "      <td>0.097825</td>\n",
       "      <td>0.185480</td>\n",
       "      <td>0.115222</td>\n",
       "      <td>0.100087</td>\n",
       "      <td>0.110896</td>\n",
       "      <td>0.236574</td>\n",
       "      <td>0.134780</td>\n",
       "      <td>0.068113</td>\n",
       "      <td>0.115044</td>\n",
       "      <td>0.127018</td>\n",
       "      <td>0.115039</td>\n",
       "      <td>0.090554</td>\n",
       "      <td>0.197062</td>\n",
       "      <td>0.116484</td>\n",
       "    </tr>\n",
       "    <tr>\n",
       "      <th>min</th>\n",
       "      <td>4.000000</td>\n",
       "      <td>0.000000</td>\n",
       "      <td>0.000000</td>\n",
       "      <td>0.000000</td>\n",
       "      <td>0.000000</td>\n",
       "      <td>0.000000</td>\n",
       "      <td>0.000000</td>\n",
       "      <td>0.000000</td>\n",
       "      <td>0.000000</td>\n",
       "      <td>0.000000</td>\n",
       "      <td>0.000000</td>\n",
       "      <td>0.000000</td>\n",
       "      <td>0.000000</td>\n",
       "      <td>0.000000</td>\n",
       "      <td>0.000000</td>\n",
       "      <td>0.000000</td>\n",
       "      <td>0.000000</td>\n",
       "    </tr>\n",
       "    <tr>\n",
       "      <th>25%</th>\n",
       "      <td>644.000000</td>\n",
       "      <td>0.000496</td>\n",
       "      <td>0.000000</td>\n",
       "      <td>0.000000</td>\n",
       "      <td>0.376623</td>\n",
       "      <td>0.000127</td>\n",
       "      <td>0.001919</td>\n",
       "      <td>0.000000</td>\n",
       "      <td>0.135276</td>\n",
       "      <td>0.000000</td>\n",
       "      <td>0.220476</td>\n",
       "      <td>0.006637</td>\n",
       "      <td>0.000000</td>\n",
       "      <td>0.001141</td>\n",
       "      <td>0.001194</td>\n",
       "      <td>0.372245</td>\n",
       "      <td>0.000000</td>\n",
       "    </tr>\n",
       "    <tr>\n",
       "      <th>50%</th>\n",
       "      <td>1247.000000</td>\n",
       "      <td>0.003472</td>\n",
       "      <td>0.000000</td>\n",
       "      <td>0.004651</td>\n",
       "      <td>0.493506</td>\n",
       "      <td>0.010269</td>\n",
       "      <td>0.007722</td>\n",
       "      <td>0.107570</td>\n",
       "      <td>0.301508</td>\n",
       "      <td>0.145299</td>\n",
       "      <td>0.238095</td>\n",
       "      <td>0.022124</td>\n",
       "      <td>0.027778</td>\n",
       "      <td>0.011030</td>\n",
       "      <td>0.005319</td>\n",
       "      <td>0.519555</td>\n",
       "      <td>0.007500</td>\n",
       "    </tr>\n",
       "    <tr>\n",
       "      <th>75%</th>\n",
       "      <td>1878.000000</td>\n",
       "      <td>0.016369</td>\n",
       "      <td>0.010417</td>\n",
       "      <td>0.023256</td>\n",
       "      <td>0.636364</td>\n",
       "      <td>0.052108</td>\n",
       "      <td>0.027519</td>\n",
       "      <td>0.155657</td>\n",
       "      <td>0.486432</td>\n",
       "      <td>0.211068</td>\n",
       "      <td>0.252381</td>\n",
       "      <td>0.061947</td>\n",
       "      <td>0.083333</td>\n",
       "      <td>0.051843</td>\n",
       "      <td>0.022088</td>\n",
       "      <td>0.618523</td>\n",
       "      <td>0.045000</td>\n",
       "    </tr>\n",
       "    <tr>\n",
       "      <th>max</th>\n",
       "      <td>2489.000000</td>\n",
       "      <td>1.000000</td>\n",
       "      <td>1.000000</td>\n",
       "      <td>1.000000</td>\n",
       "      <td>1.000000</td>\n",
       "      <td>1.000000</td>\n",
       "      <td>1.000000</td>\n",
       "      <td>1.000000</td>\n",
       "      <td>1.000000</td>\n",
       "      <td>1.000000</td>\n",
       "      <td>1.000000</td>\n",
       "      <td>1.000000</td>\n",
       "      <td>1.000000</td>\n",
       "      <td>1.000000</td>\n",
       "      <td>1.000000</td>\n",
       "      <td>1.000000</td>\n",
       "      <td>1.000000</td>\n",
       "    </tr>\n",
       "  </tbody>\n",
       "</table>\n",
       "</div>"
      ],
      "text/plain": [
       "        Unnamed: 0          4s         50s          6s         Age  \\\n",
       "count   717.000000  717.000000  717.000000  717.000000  717.000000   \n",
       "mean   1253.951185    0.028872    0.036059    0.037294    0.517071   \n",
       "std     723.219346    0.077591    0.103832    0.097825    0.185480   \n",
       "min       4.000000    0.000000    0.000000    0.000000    0.000000   \n",
       "25%     644.000000    0.000496    0.000000    0.000000    0.376623   \n",
       "50%    1247.000000    0.003472    0.000000    0.004651    0.493506   \n",
       "75%    1878.000000    0.016369    0.010417    0.023256    0.636364   \n",
       "max    2489.000000    1.000000    1.000000    1.000000    1.000000   \n",
       "\n",
       "            Balls  Balls_Faced  Balls_Average  Bat_Average  Bowl_Strike_rate  \\\n",
       "count  717.000000   717.000000     717.000000   717.000000        717.000000   \n",
       "mean     0.055991     0.042347       0.104579     0.326264          0.135742   \n",
       "std      0.115222     0.100087       0.110896     0.236574          0.134780   \n",
       "min      0.000000     0.000000       0.000000     0.000000          0.000000   \n",
       "25%      0.000127     0.001919       0.000000     0.135276          0.000000   \n",
       "50%      0.010269     0.007722       0.107570     0.301508          0.145299   \n",
       "75%      0.052108     0.027519       0.155657     0.486432          0.211068   \n",
       "max      1.000000     1.000000       1.000000     1.000000          1.000000   \n",
       "\n",
       "       Economy_Rate     Innings    Not_Outs       Overs        Runs  \\\n",
       "count    717.000000  717.000000  717.000000  717.000000  717.000000   \n",
       "mean       0.244374    0.065033    0.075740    0.056288    0.036365   \n",
       "std        0.068113    0.115044    0.127018    0.115039    0.090554   \n",
       "min        0.000000    0.000000    0.000000    0.000000    0.000000   \n",
       "25%        0.220476    0.006637    0.000000    0.001141    0.001194   \n",
       "50%        0.238095    0.022124    0.027778    0.011030    0.005319   \n",
       "75%        0.252381    0.061947    0.083333    0.051843    0.022088   \n",
       "max        1.000000    1.000000    1.000000    1.000000    1.000000   \n",
       "\n",
       "       Strike_Rate     Wickets  \n",
       "count   717.000000  717.000000  \n",
       "mean      0.497529    0.053490  \n",
       "std       0.197062    0.116484  \n",
       "min       0.000000    0.000000  \n",
       "25%       0.372245    0.000000  \n",
       "50%       0.519555    0.007500  \n",
       "75%       0.618523    0.045000  \n",
       "max       1.000000    1.000000  "
      ]
     },
     "execution_count": 32,
     "metadata": {},
     "output_type": "execute_result"
    }
   ],
   "source": [
    "df_norm1 = df_new.copy()   \n",
    "for cols in list_cont:\n",
    "    df_norm1[cols] = (df_norm1[cols] - df_norm1[cols].min())/(df_norm1[cols].max() - df_norm1[cols].min())\n",
    "    \n",
    "df_norm1.describe()"
   ]
  },
  {
   "cell_type": "code",
   "execution_count": 33,
   "metadata": {},
   "outputs": [
    {
     "data": {
      "text/html": [
       "<div>\n",
       "<style scoped>\n",
       "    .dataframe tbody tr th:only-of-type {\n",
       "        vertical-align: middle;\n",
       "    }\n",
       "\n",
       "    .dataframe tbody tr th {\n",
       "        vertical-align: top;\n",
       "    }\n",
       "\n",
       "    .dataframe thead th {\n",
       "        text-align: right;\n",
       "    }\n",
       "</style>\n",
       "<table border=\"1\" class=\"dataframe\">\n",
       "  <thead>\n",
       "    <tr style=\"text-align: right;\">\n",
       "      <th></th>\n",
       "      <th>Unnamed: 0</th>\n",
       "      <th>4s</th>\n",
       "      <th>50s</th>\n",
       "      <th>6s</th>\n",
       "      <th>Age</th>\n",
       "      <th>Balls</th>\n",
       "      <th>Balls_Faced</th>\n",
       "      <th>Balls_Average</th>\n",
       "      <th>Bat_Average</th>\n",
       "      <th>Bowl_Strike_rate</th>\n",
       "      <th>Economy_Rate</th>\n",
       "      <th>Innings</th>\n",
       "      <th>Not_Outs</th>\n",
       "      <th>Overs</th>\n",
       "      <th>Runs</th>\n",
       "      <th>Strike_Rate</th>\n",
       "      <th>Wickets</th>\n",
       "    </tr>\n",
       "  </thead>\n",
       "  <tbody>\n",
       "    <tr>\n",
       "      <th>count</th>\n",
       "      <td>717.000000</td>\n",
       "      <td>7.170000e+02</td>\n",
       "      <td>7.170000e+02</td>\n",
       "      <td>7.170000e+02</td>\n",
       "      <td>7.170000e+02</td>\n",
       "      <td>7.170000e+02</td>\n",
       "      <td>7.170000e+02</td>\n",
       "      <td>7.170000e+02</td>\n",
       "      <td>7.170000e+02</td>\n",
       "      <td>7.170000e+02</td>\n",
       "      <td>7.170000e+02</td>\n",
       "      <td>7.170000e+02</td>\n",
       "      <td>7.170000e+02</td>\n",
       "      <td>7.170000e+02</td>\n",
       "      <td>7.170000e+02</td>\n",
       "      <td>7.170000e+02</td>\n",
       "      <td>7.170000e+02</td>\n",
       "    </tr>\n",
       "    <tr>\n",
       "      <th>mean</th>\n",
       "      <td>1253.951185</td>\n",
       "      <td>-5.582084e-17</td>\n",
       "      <td>9.491865e-17</td>\n",
       "      <td>1.200032e-17</td>\n",
       "      <td>-6.973734e-17</td>\n",
       "      <td>-4.393665e-17</td>\n",
       "      <td>-1.703271e-17</td>\n",
       "      <td>1.680045e-17</td>\n",
       "      <td>-5.487630e-16</td>\n",
       "      <td>-3.098405e-16</td>\n",
       "      <td>1.076158e-15</td>\n",
       "      <td>-2.895561e-17</td>\n",
       "      <td>7.540845e-17</td>\n",
       "      <td>-1.122223e-16</td>\n",
       "      <td>3.933008e-17</td>\n",
       "      <td>2.373895e-15</td>\n",
       "      <td>-5.489178e-17</td>\n",
       "    </tr>\n",
       "    <tr>\n",
       "      <th>std</th>\n",
       "      <td>723.219346</td>\n",
       "      <td>1.000000e+00</td>\n",
       "      <td>1.000000e+00</td>\n",
       "      <td>1.000000e+00</td>\n",
       "      <td>1.000000e+00</td>\n",
       "      <td>1.000000e+00</td>\n",
       "      <td>1.000000e+00</td>\n",
       "      <td>1.000000e+00</td>\n",
       "      <td>1.000000e+00</td>\n",
       "      <td>1.000000e+00</td>\n",
       "      <td>1.000000e+00</td>\n",
       "      <td>1.000000e+00</td>\n",
       "      <td>1.000000e+00</td>\n",
       "      <td>1.000000e+00</td>\n",
       "      <td>1.000000e+00</td>\n",
       "      <td>1.000000e+00</td>\n",
       "      <td>1.000000e+00</td>\n",
       "    </tr>\n",
       "    <tr>\n",
       "      <th>min</th>\n",
       "      <td>4.000000</td>\n",
       "      <td>-3.720988e-01</td>\n",
       "      <td>-3.472815e-01</td>\n",
       "      <td>-3.812290e-01</td>\n",
       "      <td>-2.787742e+00</td>\n",
       "      <td>-4.859388e-01</td>\n",
       "      <td>-4.231022e-01</td>\n",
       "      <td>-9.430396e-01</td>\n",
       "      <td>-1.379123e+00</td>\n",
       "      <td>-1.007134e+00</td>\n",
       "      <td>-3.587783e+00</td>\n",
       "      <td>-5.652860e-01</td>\n",
       "      <td>-5.962932e-01</td>\n",
       "      <td>-4.892927e-01</td>\n",
       "      <td>-4.015848e-01</td>\n",
       "      <td>-2.524732e+00</td>\n",
       "      <td>-4.592062e-01</td>\n",
       "    </tr>\n",
       "    <tr>\n",
       "      <th>25%</th>\n",
       "      <td>644.000000</td>\n",
       "      <td>-3.657059e-01</td>\n",
       "      <td>-3.472815e-01</td>\n",
       "      <td>-3.812290e-01</td>\n",
       "      <td>-7.572126e-01</td>\n",
       "      <td>-4.848385e-01</td>\n",
       "      <td>-4.039304e-01</td>\n",
       "      <td>-9.430396e-01</td>\n",
       "      <td>-8.073078e-01</td>\n",
       "      <td>-1.007134e+00</td>\n",
       "      <td>-3.508568e-01</td>\n",
       "      <td>-5.075934e-01</td>\n",
       "      <td>-5.962932e-01</td>\n",
       "      <td>-4.793736e-01</td>\n",
       "      <td>-3.883996e-01</td>\n",
       "      <td>-6.357561e-01</td>\n",
       "      <td>-4.592062e-01</td>\n",
       "    </tr>\n",
       "    <tr>\n",
       "      <th>50%</th>\n",
       "      <td>1247.000000</td>\n",
       "      <td>-3.273485e-01</td>\n",
       "      <td>-3.472815e-01</td>\n",
       "      <td>-3.336831e-01</td>\n",
       "      <td>-1.270484e-01</td>\n",
       "      <td>-3.968113e-01</td>\n",
       "      <td>-3.459473e-01</td>\n",
       "      <td>2.696460e-02</td>\n",
       "      <td>-1.046468e-01</td>\n",
       "      <td>7.091143e-02</td>\n",
       "      <td>-9.218244e-02</td>\n",
       "      <td>-3.729772e-01</td>\n",
       "      <td>-3.776015e-01</td>\n",
       "      <td>-3.934087e-01</td>\n",
       "      <td>-3.428508e-01</td>\n",
       "      <td>1.117747e-01</td>\n",
       "      <td>-3.948198e-01</td>\n",
       "    </tr>\n",
       "    <tr>\n",
       "      <th>75%</th>\n",
       "      <td>1878.000000</td>\n",
       "      <td>-1.611332e-01</td>\n",
       "      <td>-2.469588e-01</td>\n",
       "      <td>-1.434997e-01</td>\n",
       "      <td>6.431522e-01</td>\n",
       "      <td>-3.369925e-02</td>\n",
       "      <td>-1.481501e-01</td>\n",
       "      <td>4.605924e-01</td>\n",
       "      <td>6.770316e-01</td>\n",
       "      <td>5.588857e-01</td>\n",
       "      <td>1.175536e-01</td>\n",
       "      <td>-2.682131e-02</td>\n",
       "      <td>5.978182e-02</td>\n",
       "      <td>-3.863810e-02</td>\n",
       "      <td>-1.576588e-01</td>\n",
       "      <td>6.139904e-01</td>\n",
       "      <td>-7.288750e-02</td>\n",
       "    </tr>\n",
       "    <tr>\n",
       "      <th>max</th>\n",
       "      <td>2489.000000</td>\n",
       "      <td>1.251599e+01</td>\n",
       "      <td>9.283693e+00</td>\n",
       "      <td>9.841132e+00</td>\n",
       "      <td>2.603663e+00</td>\n",
       "      <td>8.192990e+00</td>\n",
       "      <td>9.568228e+00</td>\n",
       "      <td>8.074407e+00</td>\n",
       "      <td>2.847889e+00</td>\n",
       "      <td>6.412358e+00</td>\n",
       "      <td>1.109374e+01</td>\n",
       "      <td>8.127073e+00</td>\n",
       "      <td>7.276607e+00</td>\n",
       "      <td>8.203414e+00</td>\n",
       "      <td>1.064161e+01</td>\n",
       "      <td>2.549813e+00</td>\n",
       "      <td>8.125654e+00</td>\n",
       "    </tr>\n",
       "  </tbody>\n",
       "</table>\n",
       "</div>"
      ],
      "text/plain": [
       "        Unnamed: 0            4s           50s            6s           Age  \\\n",
       "count   717.000000  7.170000e+02  7.170000e+02  7.170000e+02  7.170000e+02   \n",
       "mean   1253.951185 -5.582084e-17  9.491865e-17  1.200032e-17 -6.973734e-17   \n",
       "std     723.219346  1.000000e+00  1.000000e+00  1.000000e+00  1.000000e+00   \n",
       "min       4.000000 -3.720988e-01 -3.472815e-01 -3.812290e-01 -2.787742e+00   \n",
       "25%     644.000000 -3.657059e-01 -3.472815e-01 -3.812290e-01 -7.572126e-01   \n",
       "50%    1247.000000 -3.273485e-01 -3.472815e-01 -3.336831e-01 -1.270484e-01   \n",
       "75%    1878.000000 -1.611332e-01 -2.469588e-01 -1.434997e-01  6.431522e-01   \n",
       "max    2489.000000  1.251599e+01  9.283693e+00  9.841132e+00  2.603663e+00   \n",
       "\n",
       "              Balls   Balls_Faced  Balls_Average   Bat_Average  \\\n",
       "count  7.170000e+02  7.170000e+02   7.170000e+02  7.170000e+02   \n",
       "mean  -4.393665e-17 -1.703271e-17   1.680045e-17 -5.487630e-16   \n",
       "std    1.000000e+00  1.000000e+00   1.000000e+00  1.000000e+00   \n",
       "min   -4.859388e-01 -4.231022e-01  -9.430396e-01 -1.379123e+00   \n",
       "25%   -4.848385e-01 -4.039304e-01  -9.430396e-01 -8.073078e-01   \n",
       "50%   -3.968113e-01 -3.459473e-01   2.696460e-02 -1.046468e-01   \n",
       "75%   -3.369925e-02 -1.481501e-01   4.605924e-01  6.770316e-01   \n",
       "max    8.192990e+00  9.568228e+00   8.074407e+00  2.847889e+00   \n",
       "\n",
       "       Bowl_Strike_rate  Economy_Rate       Innings      Not_Outs  \\\n",
       "count      7.170000e+02  7.170000e+02  7.170000e+02  7.170000e+02   \n",
       "mean      -3.098405e-16  1.076158e-15 -2.895561e-17  7.540845e-17   \n",
       "std        1.000000e+00  1.000000e+00  1.000000e+00  1.000000e+00   \n",
       "min       -1.007134e+00 -3.587783e+00 -5.652860e-01 -5.962932e-01   \n",
       "25%       -1.007134e+00 -3.508568e-01 -5.075934e-01 -5.962932e-01   \n",
       "50%        7.091143e-02 -9.218244e-02 -3.729772e-01 -3.776015e-01   \n",
       "75%        5.588857e-01  1.175536e-01 -2.682131e-02  5.978182e-02   \n",
       "max        6.412358e+00  1.109374e+01  8.127073e+00  7.276607e+00   \n",
       "\n",
       "              Overs          Runs   Strike_Rate       Wickets  \n",
       "count  7.170000e+02  7.170000e+02  7.170000e+02  7.170000e+02  \n",
       "mean  -1.122223e-16  3.933008e-17  2.373895e-15 -5.489178e-17  \n",
       "std    1.000000e+00  1.000000e+00  1.000000e+00  1.000000e+00  \n",
       "min   -4.892927e-01 -4.015848e-01 -2.524732e+00 -4.592062e-01  \n",
       "25%   -4.793736e-01 -3.883996e-01 -6.357561e-01 -4.592062e-01  \n",
       "50%   -3.934087e-01 -3.428508e-01  1.117747e-01 -3.948198e-01  \n",
       "75%   -3.863810e-02 -1.576588e-01  6.139904e-01 -7.288750e-02  \n",
       "max    8.203414e+00  1.064161e+01  2.549813e+00  8.125654e+00  "
      ]
     },
     "execution_count": 33,
     "metadata": {},
     "output_type": "execute_result"
    }
   ],
   "source": [
    "df_standard1 = df_new.copy()\n",
    "    \n",
    "for cols1 in list_cont:\n",
    "    df_standard1[cols1] = (df_standard1[cols1] - df_standard1[cols1].mean())/(df_standard1[cols1].std())\n",
    "    \n",
    "df_standard1.describe()"
   ]
  },
  {
   "cell_type": "code",
   "execution_count": 34,
   "metadata": {},
   "outputs": [
    {
     "data": {
      "text/plain": [
       "<Figure size 432x288 with 0 Axes>"
      ]
     },
     "execution_count": 34,
     "metadata": {},
     "output_type": "execute_result"
    },
    {
     "data": {
      "image/png": "[encoded data removed]",
      "text/plain": [
       "<Figure size 432x288 with 1 Axes>"
      ]
     },
     "metadata": {
      "needs_background": "light"
     },
     "output_type": "display_data"
    },
    {
     "data": {
      "text/plain": [
       "<Figure size 432x288 with 0 Axes>"
      ]
     },
     "metadata": {},
     "output_type": "display_data"
    }
   ],
   "source": [
    "sns.distplot(df_norm1['Age'],kde=True)\n",
    "plt.title(\"Normal Plot Of Age\")\n",
    "plt.figure()"
   ]
  },
  {
   "cell_type": "code",
   "execution_count": 35,
   "metadata": {},
   "outputs": [
    {
     "data": {
      "text/plain": [
       "<Figure size 432x288 with 0 Axes>"
      ]
     },
     "execution_count": 35,
     "metadata": {},
     "output_type": "execute_result"
    },
    {
     "data": {
      "image/png": "[encoded data removed]",
      "text/plain": [
       "<Figure size 432x288 with 1 Axes>"
      ]
     },
     "metadata": {
      "needs_background": "light"
     },
     "output_type": "display_data"
    },
    {
     "data": {
      "text/plain": [
       "<Figure size 432x288 with 0 Axes>"
      ]
     },
     "metadata": {},
     "output_type": "display_data"
    }
   ],
   "source": [
    "sns.distplot(df_norm1['Bat_Average'],kde=True)\n",
    "plt.title(\"Normal Plot Of Bat Average\")\n",
    "plt.figure()\n"
   ]
  },
  {
   "cell_type": "code",
   "execution_count": 36,
   "metadata": {},
   "outputs": [
    {
     "data": {
      "text/plain": [
       "<Figure size 432x288 with 0 Axes>"
      ]
     },
     "execution_count": 36,
     "metadata": {},
     "output_type": "execute_result"
    },
    {
     "data": {
      "image/png": "[encoded data removed]",
      "text/plain": [
       "<Figure size 432x288 with 1 Axes>"
      ]
     },
     "metadata": {
      "needs_background": "light"
     },
     "output_type": "display_data"
    },
    {
     "data": {
      "text/plain": [
       "<Figure size 432x288 with 0 Axes>"
      ]
     },
     "metadata": {},
     "output_type": "display_data"
    }
   ],
   "source": [
    "sns.distplot(df_norm1['Strike_Rate'],kde=True)\n",
    "plt.title(\"Normal Plot Of Strike Rate\")\n",
    "plt.figure()"
   ]
  },
  {
   "cell_type": "code",
   "execution_count": 37,
   "metadata": {},
   "outputs": [
    {
     "data": {
      "text/plain": [
       "<Figure size 432x288 with 0 Axes>"
      ]
     },
     "execution_count": 37,
     "metadata": {},
     "output_type": "execute_result"
    },
    {
     "data": {
      "image/png": "[encoded data removed]",
      "text/plain": [
       "<Figure size 432x288 with 1 Axes>"
      ]
     },
     "metadata": {
      "needs_background": "light"
     },
     "output_type": "display_data"
    },
    {
     "data": {
      "text/plain": [
       "<Figure size 432x288 with 0 Axes>"
      ]
     },
     "metadata": {},
     "output_type": "display_data"
    }
   ],
   "source": [
    "sns.distplot(df_standard1['Age'],kde=True)\n",
    "plt.title(\"Standard Plot Of Age\")\n",
    "plt.figure()"
   ]
  },
  {
   "cell_type": "code",
   "execution_count": 38,
   "metadata": {},
   "outputs": [
    {
     "data": {
      "text/plain": [
       "<Figure size 432x288 with 0 Axes>"
      ]
     },
     "execution_count": 38,
     "metadata": {},
     "output_type": "execute_result"
    },
    {
     "data": {
      "image/png": "[encoded data removed]",
      "text/plain": [
       "<Figure size 432x288 with 1 Axes>"
      ]
     },
     "metadata": {
      "needs_background": "light"
     },
     "output_type": "display_data"
    },
    {
     "data": {
      "text/plain": [
       "<Figure size 432x288 with 0 Axes>"
      ]
     },
     "metadata": {},
     "output_type": "display_data"
    }
   ],
   "source": [
    "sns.distplot(df_standard1['Bat_Average'],kde=True)\n",
    "plt.title(\"Standard Plot Of Age\")\n",
    "plt.figure()"
   ]
  },
  {
   "cell_type": "code",
   "execution_count": 39,
   "metadata": {},
   "outputs": [
    {
     "data": {
      "text/plain": [
       "<Figure size 432x288 with 0 Axes>"
      ]
     },
     "execution_count": 39,
     "metadata": {},
     "output_type": "execute_result"
    },
    {
     "data": {
      "image/png": "[encoded data removed]",
      "text/plain": [
       "<Figure size 432x288 with 1 Axes>"
      ]
     },
     "metadata": {
      "needs_background": "light"
     },
     "output_type": "display_data"
    },
    {
     "data": {
      "text/plain": [
       "<Figure size 432x288 with 0 Axes>"
      ]
     },
     "metadata": {},
     "output_type": "display_data"
    }
   ],
   "source": [
    "sns.distplot(df_standard1['Strike_Rate'],kde=True)\n",
    "plt.title(\"Standard Plot Of Strike Rate\")\n",
    "plt.figure()"
   ]
  },
  {
   "cell_type": "code",
   "execution_count": 40,
   "metadata": {},
   "outputs": [],
   "source": [
    "#Hypothesis Testing For 'Age' Column\n",
    "H0=\"The mean age is 43.1 years\" #Null hypothesis\n",
    "H1=\"The mean age is not 43.1 years\"#Alternate hypothesis\n",
    "mean_pop=43.1 #population mean from hypothesis\n",
    "\n",
    "#Alpha values for corresponding tailed tests\n",
    "test=\"two_tailed_test\" #lets take two tailed test\n",
    "if(test==\"one_tailed_test\"):\n",
    "    no_tails=1\n",
    "    alpha=0.05\n",
    "elif(test==\"two_tailed_test\"):\n",
    "    no_tails=2\n",
    "    alpha=0.025\n"
   ]
  },
  {
   "cell_type": "code",
   "execution_count": 41,
   "metadata": {},
   "outputs": [
    {
     "data": {
      "text/plain": [
       "42.81450488145049"
      ]
     },
     "execution_count": 41,
     "metadata": {},
     "output_type": "execute_result"
    }
   ],
   "source": [
    "sample_mean=df_new['Age'].mean()\n",
    "sample_sd=df_new['Age'].std()\n",
    "no_values=len(df_new)\n",
    "\n",
    "sample_mean"
   ]
  },
  {
   "cell_type": "code",
   "execution_count": 42,
   "metadata": {},
   "outputs": [
    {
     "name": "stdout",
     "output_type": "stream",
     "text": [
      "Null hypothesis is accepted\n",
      "Accepted hypothesis is : The mean age is 43.1 years\n"
     ]
    }
   ],
   "source": [
    "z_score=(sample_mean-mean_pop)/(sample_sd/np.sqrt(no_values))\n",
    "p=scipy.stats.norm.sf(z_score)\n",
    "\n",
    "if p>alpha:\n",
    "    print('Null hypothesis is accepted')\n",
    "    print('Accepted hypothesis is :',H0)\n",
    "else:\n",
    "    print('Alternate hypothesis is accepted')\n",
    "    print('Accepted hypothesis is :',H1)\n"
   ]
  },
  {
   "cell_type": "code",
   "execution_count": null,
   "metadata": {},
   "outputs": [],
   "source": []
  }
 ],
 "metadata": {
  "kernelspec": {
   "display_name": "Python 3",
   "language": "python",
   "name": "python3"
  },
  "language_info": {
   "codemirror_mode": {
    "name": "ipython",
    "version": 3
   },
   "file_extension": ".py",
   "mimetype": "text/x-python",
   "name": "python",
   "nbconvert_exporter": "python",
   "pygments_lexer": "ipython3",
   "version": "3.8.3"
  }
 },
 "nbformat": 4,
 "nbformat_minor": 4
}
